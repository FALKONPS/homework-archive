{
 "cells": [
  {
   "cell_type": "markdown",
   "id": "cefc442d",
   "metadata": {},
   "source": [
    "# Classical Encryption Techniques"
   ]
  },
  {
   "cell_type": "markdown",
   "id": "24ca09cc",
   "metadata": {},
   "source": [
    "### Basic Terminology\n",
    "- plaintext - original message\n",
    "- ciphertext - coded message\n",
    "- cipher - algorithm for transforming plaintext to ciphertext\n",
    "- key - info used in cipher known only to sender/receiver\n",
    "- encipher (encrypt) - converting plaintext to ciphertext\n",
    "- decipher (decrypt) – restoring plaintext from cihpertext\n",
    "- cryptography - study of encryption principles/methods\n",
    "- cryptanalysis (codebreaking) - study of principles/methods of deciphering ciphertext without knowing key\n",
    "- cryptology - field of both cryptography and cryptanalysis\n"
   ]
  },
  {
   "cell_type": "markdown",
   "id": "959587ff",
   "metadata": {},
   "source": [
    "### A symmetric encryption scheme has five ingredients:\n",
    "- **Plaintext**: This is the original intelligible message or data that is fed\n",
    "into the algorithm as input.\n",
    "- **Encryption** algorithm: The encryption algorithm performs various\n",
    "substitutions and transformations on the plaintext.\n",
    "- **Secret key**: The secret key is also input to the encryption algorithm.\n",
    "\n",
    "    - The key is a value independent of the plaintext and of the algorithm.\n",
    "    - The algorithm will produce a different output depending on the specific\n",
    "    - Key being used at the time. The exact substitutions and\n",
    "    - Transformations performed by the algorithm depend on the key.\n",
    "\n",
    "- **Ciphertext**: This is the scrambled message produced as output. It depends on the plaintext and the secret key.<br>\n",
    " For a given message, two different keys will produce two different ciphertexts.\n",
    "- **Decryption algorithm**: This is essentially the encryption algorithm\n",
    "run in reverse. It takes the ciphertext and the secret key and produces\n",
    "the original plaintext."
   ]
  },
  {
   "cell_type": "markdown",
   "id": "adf079a0",
   "metadata": {},
   "source": [
    "### Requirements\n",
    "- Two requirements for secure use of symmetric encryption:\n",
    "- a strong encryption algorithm (weak one: unable to\n",
    "decipher the ciphertext or figure out the key).\n",
    "- a secret key known only to sender / receiver"
   ]
  },
  {
   "cell_type": "markdown",
   "id": "8d47b769",
   "metadata": {},
   "source": [
    "# Cipher substitution\n",
    "In cryptography, a substitution cipher is a method of encrypting in which units of plaintext are replaced with the ciphertext, in a defined manner, with the help of a key; the \"units\" may be single letters, pairs of letters, triplets of letters, mixtures of the above, and so forth."
   ]
  },
  {
   "cell_type": "markdown",
   "id": "1f45bc1b",
   "metadata": {},
   "source": [
    "## Classical Substitution Ciphers\n",
    "- The two basic building blocks of all encryption techniques are substitution and transposition.\n",
    "- A substitution technique is one in which the letters of plaintext are replaced by other letters or by numbers or symbols. or if plaintext is viewed as a sequence of bits, then substitution involves replacing plaintext bit patterns with ciphertext bit patterns"
   ]
  },
  {
   "cell_type": "markdown",
   "id": "d3da6929",
   "metadata": {},
   "source": [
    "## Caesar Cipher\n",
    "The Caesar cipher involves replacing\n",
    "each letter of the alphabet with the\n",
    "letter standing three places further\n",
    "down the alphabet\n",
    "<br>\n",
    "**Right shift of 3**\n",
    "<pre>\n",
    "Plaintext:  a b c d e f g h i j k l m n o p q r s t u v w x y z\n",
    "Ciphertext: d e f g h i j k l m n o p q r s t u v w x y z a b c \n",
    "</pre>\n",
    "<pre>\n",
    "Plaintext:  THE QUICK BROWN FOX JUMPS OVER THE LAZY DOG\n",
    "Ciphertext: QEB NRFZH YOLTK CLU GRJMP LSBO QEB IXWV ALD\n",
    "</pre>\n",
    "Encryption of a letter $x$ by a shift $n$ can be described mathematically as\n",
    "<br>\n",
    "$E_{n}(x)=(x+n)\\mod{26}$\n",
    "<br>\n",
    "$D_{n}(x)=(x-n)\\mod{26}$\n",
    "<br>\n",
    "PS: $E_{n}$ for Encode $D_{n}$ for Decode\n",
    "\n",
    "**In ASCII Format**\n",
    "<br>\n",
    "$(S)\\text{ It is the first letter of the alphabetical order 'A' or 'a' in integer a}\\rightarrow97 \\text{ and A}\\rightarrow64$\n",
    "<br>\n",
    "$(x)\\text{ It is the order of the letters according to ASCII in integer}$ \n",
    "<br>\n",
    "$(n)\\text{ It is the amount of shift to the right or left}$ \n",
    "<br>\n",
    "$E_{n}(x)=((x+n-S)\\mod{26})+S$\n",
    "<br>\n",
    "$D_{n}(x)=((x-n-S)\\mod{26})+S$"
   ]
  },
  {
   "cell_type": "code",
   "execution_count": 1,
   "id": "496c16e7",
   "metadata": {},
   "outputs": [],
   "source": [
    "def alphabet(shift=0,capital=False):\n",
    "    if(shift<0):\n",
    "        shift=(26+(shift%26))\n",
    "    alphabetical_list=[]\n",
    "    type_alphabet=ord('a')\n",
    "    if(capital):\n",
    "        type_alphabet=ord('A')\n",
    "    for alpha in range(26):\n",
    "        alphabetical_list.append(chr((alpha+shift)%26+type_alphabet))\n",
    "    return alphabetical_list"
   ]
  },
  {
   "cell_type": "code",
   "execution_count": 2,
   "id": "0879c974",
   "metadata": {},
   "outputs": [],
   "source": [
    "def alphabet(shift=0,capital=False,custom_alphabet=None):\n",
    "    import math\n",
    "    alphabetical_list=[]\n",
    "    type_alphabet=ord('a')\n",
    "    if(capital):\n",
    "        type_alphabet=ord('A')\n",
    "        \n",
    "    if(custom_alphabet!=None):\n",
    "        factor=math.ceil(26/len(custom_alphabet))\n",
    "        custom_alphabet=custom_alphabet*factor\n",
    "        for alpha in range(26):\n",
    "            alphabetical_list.append(custom_alphabet[alpha])\n",
    "    else:\n",
    "        if(shift<0):\n",
    "            shift=(26+(shift%26))\n",
    "        for alpha in range(26):\n",
    "            alphabetical_list.append(chr((alpha+shift)%26+type_alphabet))\n",
    "    return alphabetical_list"
   ]
  },
  {
   "cell_type": "code",
   "execution_count": 3,
   "id": "b1a9f52f",
   "metadata": {},
   "outputs": [],
   "source": [
    "def numbered():\n",
    "    space=' '\n",
    "    number=0\n",
    "    for alpha in alphabet():\n",
    "        print(str(number)+space,end='')\n",
    "        number=number+1"
   ]
  },
  {
   "cell_type": "code",
   "execution_count": 4,
   "id": "073794a7",
   "metadata": {},
   "outputs": [],
   "source": [
    "def display_alphabet(shift=0,capital=False,numbered=False):\n",
    "    space=' '\n",
    "    number=0\n",
    "    for alpha in alphabet(shift,capital):\n",
    "        if(numbered and number==10):\n",
    "            space='  '\n",
    "        number=number+1\n",
    "        print(alpha+space,end='')\n",
    "    print('')"
   ]
  },
  {
   "cell_type": "code",
   "execution_count": 5,
   "id": "ed39ab4e",
   "metadata": {},
   "outputs": [
    {
     "name": "stdout",
     "output_type": "stream",
     "text": [
      "Plaintext:  a b c d e f g h i j k  l  m  n  o  p  q  r  s  t  u  v  w  x  y  z  \n"
     ]
    }
   ],
   "source": [
    "print('Plaintext:  ',end='')\n",
    "display_alphabet(numbered=True)"
   ]
  },
  {
   "cell_type": "code",
   "execution_count": 6,
   "id": "e709ac49",
   "metadata": {},
   "outputs": [
    {
     "name": "stdout",
     "output_type": "stream",
     "text": [
      "index:      0 1 2 3 4 5 6 7 8 9 10 11 12 13 14 15 16 17 18 19 20 21 22 23 24 25 \n",
      "Plaintext:  a b c d e f g h i j k  l  m  n  o  p  q  r  s  t  u  v  w  x  y  z  \n",
      "Ciphertext: d e f g h i j k l m n  o  p  q  r  s  t  u  v  w  x  y  z  a  b  c  \n"
     ]
    }
   ],
   "source": [
    "print('index:      ',end='')\n",
    "numbered()\n",
    "print('\\nPlaintext:  ',end='')\n",
    "display_alphabet(numbered=True)\n",
    "print('Ciphertext: ',end='')\n",
    "display_alphabet(3,numbered=True)"
   ]
  },
  {
   "cell_type": "code",
   "execution_count": 7,
   "id": "50d69dbb",
   "metadata": {},
   "outputs": [
    {
     "name": "stdout",
     "output_type": "stream",
     "text": [
      "Plaintext:  A B C D E F G H I J K L M N O P Q R S T U V W X Y Z \n",
      "Ciphertext: D E F G H I J K L M N O P Q R S T U V W X Y Z A B C \n"
     ]
    }
   ],
   "source": [
    "print('Plaintext:  ',end='')\n",
    "display_alphabet(capital=True)\n",
    "print('Ciphertext: ',end='')\n",
    "display_alphabet(3,capital=True)"
   ]
  },
  {
   "cell_type": "code",
   "execution_count": 8,
   "id": "27dfed88",
   "metadata": {},
   "outputs": [],
   "source": [
    "def caesar_cipheren_encipher(planetext,shift):\n",
    "    encode_text=\"\"\n",
    "    if(shift==0):\n",
    "        return planetext\n",
    "    elif(shift<0):\n",
    "        shift=(26+(shift%26))\n",
    "    for char in planetext:\n",
    "        if(char>='a' and char<='z'):\n",
    "            encode_text=encode_text+chr((ord(char)+shift-ord('a'))%26+ord('a'))\n",
    "        elif(char>='A' and char<='Z'):\n",
    "            encode_text=encode_text+chr((ord(char)+shift-ord('A'))%26+ord('A'))\n",
    "        else:\n",
    "            encode_text=encode_text+char\n",
    "    return encode_text    "
   ]
  },
  {
   "cell_type": "code",
   "execution_count": 9,
   "id": "b4bc661c",
   "metadata": {},
   "outputs": [],
   "source": [
    "def caesar_cipheren_encipher(planetext,shift):\n",
    "    encode_text=\"\"\n",
    "    if(shift==0):\n",
    "        return planetext\n",
    "    elif(shift<0):\n",
    "        shift=(26+(shift%26))\n",
    "    for char in planetext:\n",
    "        if(char>='a' and char<='z'):\n",
    "            encode_text=encode_text+chr((ord(char)+shift-ord('a'))%26+ord('a'))\n",
    "        elif(char>='A' and char<='Z'):\n",
    "            encode_text=encode_text+chr((ord(char)+shift-ord('A'))%26+ord('A'))\n",
    "        else:\n",
    "            encode_text=encode_text+char\n",
    "    return encode_text    "
   ]
  },
  {
   "cell_type": "code",
   "execution_count": 10,
   "id": "502c0d16",
   "metadata": {},
   "outputs": [],
   "source": [
    "def caesar_cipheren_decipher(planetext):\n",
    "    decode_list=[]\n",
    "    for alpha in range(26):\n",
    "        decode_list.append(caesar_cipheren_encipher(planetext,alpha))\n",
    "    return decode_list"
   ]
  },
  {
   "cell_type": "code",
   "execution_count": 11,
   "id": "55a64d87",
   "metadata": {},
   "outputs": [
    {
     "name": "stdout",
     "output_type": "stream",
     "text": [
      "Enter Plaintext: Enter Shift    : \n",
      "index:      0 1 2 3 4 5 6 7 8 9 10 11 12 13 14 15 16 17 18 19 20 21 22 23 24 25 \n",
      "Plaintext:  a b c d e f g h i j k  l  m  n  o  p  q  r  s  t  u  v  w  x  y  z  \n",
      "Ciphertext: h i j k l m n o p q r  s  t  u  v  w  x  y  z  a  b  c  d  e  f  g  \n",
      "\n",
      "Plaintext:  FALKON.PS\n",
      "\n",
      "Ciphertext: MHSRVU.WZ"
     ]
    }
   ],
   "source": [
    "print('Enter Plaintext: ',end='')\n",
    "input_planetext=input()\n",
    "print('Enter Shift    : ',end='')\n",
    "input_shift=int(input())\n",
    "\n",
    "print('\\nindex:      ',end='')\n",
    "numbered()\n",
    "print('\\nPlaintext:  ',end='')\n",
    "display_alphabet(numbered=True)\n",
    "print('Ciphertext: ',end='')\n",
    "display_alphabet(input_shift,numbered=True)\n",
    "\n",
    "print(f'\\nPlaintext:  {input_planetext}',end='')\n",
    "print(f'\\n\\nCiphertext: {caesar_cipheren_encipher(input_planetext,input_shift)}',end='')\n"
   ]
  },
  {
   "cell_type": "code",
   "execution_count": 12,
   "id": "7a78f724",
   "metadata": {},
   "outputs": [
    {
     "data": {
      "text/plain": [
       "'gvbytt  ojxrb'"
      ]
     },
     "execution_count": 12,
     "metadata": {},
     "output_type": "execute_result"
    }
   ],
   "source": [
    "'brxjo  ttybvg'[::-1]"
   ]
  },
  {
   "cell_type": "code",
   "execution_count": 14,
   "id": "c039a677",
   "metadata": {},
   "outputs": [
    {
     "data": {
      "text/plain": [
       "['FALKON.PS',\n",
       " 'GBMLPO.QT',\n",
       " 'HCNMQP.RU',\n",
       " 'IDONRQ.SV',\n",
       " 'JEPOSR.TW',\n",
       " 'KFQPTS.UX',\n",
       " 'LGRQUT.VY',\n",
       " 'MHSRVU.WZ',\n",
       " 'NITSWV.XA',\n",
       " 'OJUTXW.YB',\n",
       " 'PKVUYX.ZC',\n",
       " 'QLWVZY.AD',\n",
       " 'RMXWAZ.BE',\n",
       " 'SNYXBA.CF',\n",
       " 'TOZYCB.DG',\n",
       " 'UPAZDC.EH',\n",
       " 'VQBAED.FI',\n",
       " 'WRCBFE.GJ',\n",
       " 'XSDCGF.HK',\n",
       " 'YTEDHG.IL',\n",
       " 'ZUFEIH.JM',\n",
       " 'AVGFJI.KN',\n",
       " 'BWHGKJ.LO',\n",
       " 'CXIHLK.MP',\n",
       " 'DYJIML.NQ',\n",
       " 'EZKJNM.OR']"
      ]
     },
     "execution_count": 14,
     "metadata": {},
     "output_type": "execute_result"
    }
   ],
   "source": [
    "caesar_cipheren_decipher('FALKON.PS')"
   ]
  },
  {
   "cell_type": "markdown",
   "id": "5baf96a0",
   "metadata": {},
   "source": [
    "## Cryptanalysis of Caesar Cipher\n",
    "- only have 26 possible ciphers\n",
    "- could simply try each in turn\n",
    "- brute-force cryptanalysis is easily performed: simply try all the 25 possible keys.\n",
    "- eg. break ciphertext \"GCUA VQ DTGCM\""
   ]
  },
  {
   "cell_type": "code",
   "execution_count": 15,
   "id": "5eda315a",
   "metadata": {},
   "outputs": [
    {
     "data": {
      "text/plain": [
       "['GCUA VQ DTGCM',\n",
       " 'HDVB WR EUHDN',\n",
       " 'IEWC XS FVIEO',\n",
       " 'JFXD YT GWJFP',\n",
       " 'KGYE ZU HXKGQ',\n",
       " 'LHZF AV IYLHR',\n",
       " 'MIAG BW JZMIS',\n",
       " 'NJBH CX KANJT',\n",
       " 'OKCI DY LBOKU',\n",
       " 'PLDJ EZ MCPLV',\n",
       " 'QMEK FA NDQMW',\n",
       " 'RNFL GB OERNX',\n",
       " 'SOGM HC PFSOY',\n",
       " 'TPHN ID QGTPZ',\n",
       " 'UQIO JE RHUQA',\n",
       " 'VRJP KF SIVRB',\n",
       " 'WSKQ LG TJWSC',\n",
       " 'XTLR MH UKXTD',\n",
       " 'YUMS NI VLYUE',\n",
       " 'ZVNT OJ WMZVF',\n",
       " 'AWOU PK XNAWG',\n",
       " 'BXPV QL YOBXH',\n",
       " 'CYQW RM ZPCYI',\n",
       " 'DZRX SN AQDZJ',\n",
       " 'EASY TO BREAK',\n",
       " 'FBTZ UP CSFBL']"
      ]
     },
     "execution_count": 15,
     "metadata": {},
     "output_type": "execute_result"
    }
   ],
   "source": [
    "caesar_cipheren_decipher('GCUA VQ DTGCM')"
   ]
  },
  {
   "cell_type": "markdown",
   "id": "9ead0bf2",
   "metadata": {},
   "source": [
    "## Monoalphabetic Cipher\n",
    "<pre>\n",
    "Recall the assignment for the Caesar cipher:\n",
    "\n",
    "Plain:      abcdefghijklmnopqrstuvwxyz\n",
    "Cipher:     DKVQFIBJWPESCXHTMYAUOLRGZN\n",
    "\n",
    "Plaintext:  ifwewishtoreplaceletters\n",
    "Ciphertext: WIRFRWAJUHYFTSDVFSFUUFYA \n",
    "</pre>"
   ]
  },
  {
   "cell_type": "code",
   "execution_count": 16,
   "id": "44dcae31",
   "metadata": {},
   "outputs": [],
   "source": [
    "frequency={'a':14810,\n",
    " 'b': 2715,\n",
    " 'c': 4943,\n",
    " 'd': 7874,\n",
    " 'e': 21912,\n",
    " 'f': 4200,\n",
    " 'g': 3693,\n",
    " 'h': 10795,\n",
    " 'i': 13318,\n",
    " 'j': 188,\n",
    " 'k': 1257,\n",
    " 'l': 7874,\n",
    " 'm': 4761,\n",
    " 'n': 12666,\n",
    " 'o': 14003,\n",
    " 'p': 3316,\n",
    " 'q': 205,\n",
    " 'r': 10977,\n",
    " 's': 11450,\n",
    " 't': 16587,\n",
    " 'u': 5246,\n",
    " 'v': 2019,\n",
    " 'w': 3819,\n",
    " 'x': 315,\n",
    " 'y': 3853,\n",
    " 'z': 128}"
   ]
  },
  {
   "cell_type": "code",
   "execution_count": 17,
   "id": "2dc8eb10",
   "metadata": {},
   "outputs": [
    {
     "data": {
      "text/plain": [
       "{'a': 14810,\n",
       " 'b': 2715,\n",
       " 'c': 4943,\n",
       " 'd': 7874,\n",
       " 'e': 21912,\n",
       " 'f': 4200,\n",
       " 'g': 3693,\n",
       " 'h': 10795,\n",
       " 'i': 13318,\n",
       " 'j': 188,\n",
       " 'k': 1257,\n",
       " 'l': 7874,\n",
       " 'm': 4761,\n",
       " 'n': 12666,\n",
       " 'o': 14003,\n",
       " 'p': 3316,\n",
       " 'q': 205,\n",
       " 'r': 10977,\n",
       " 's': 11450,\n",
       " 't': 16587,\n",
       " 'u': 5246,\n",
       " 'v': 2019,\n",
       " 'w': 3819,\n",
       " 'x': 315,\n",
       " 'y': 3853,\n",
       " 'z': 128}"
      ]
     },
     "execution_count": 17,
     "metadata": {},
     "output_type": "execute_result"
    }
   ],
   "source": [
    "frequency"
   ]
  },
  {
   "cell_type": "code",
   "execution_count": 18,
   "id": "7e2172bb",
   "metadata": {},
   "outputs": [
    {
     "data": {
      "text/plain": [
       "{'a': 'a', 'b': 'b'}"
      ]
     },
     "execution_count": 18,
     "metadata": {},
     "output_type": "execute_result"
    }
   ],
   "source": [
    "dict(zip(['a','b'],['a','b']))"
   ]
  },
  {
   "cell_type": "code",
   "execution_count": 19,
   "id": "29b891b7",
   "metadata": {},
   "outputs": [],
   "source": [
    "def monoalphabetic(plaintext,cipher,plain=alphabet()):\n",
    "    cipher=cipher.lower()\n",
    "    directory_letter=dict(zip(plain,cipher))\n",
    "    ciphertext=\"\"\n",
    "    for i in plaintext:\n",
    "        if(i>='a' and i<='z'):\n",
    "            ciphertext=ciphertext+directory_letter[i].lower()\n",
    "        elif(i>='A' and i<='Z'):\n",
    "            ciphertext=ciphertext+str(directory_letter[i.lower()].upper())\n",
    "    return ciphertext"
   ]
  },
  {
   "cell_type": "code",
   "execution_count": 20,
   "id": "715c610a",
   "metadata": {},
   "outputs": [
    {
     "data": {
      "text/plain": [
       "'wirfrwajuhyftsdvfsfuufya'"
      ]
     },
     "execution_count": 20,
     "metadata": {},
     "output_type": "execute_result"
    }
   ],
   "source": [
    "monoalphabetic('ifwewishtoreplaceletters','DKVQFIBJWPESCXHTMYAUOLRGZN')"
   ]
  },
  {
   "cell_type": "code",
   "execution_count": 22,
   "id": "9298d708",
   "metadata": {
    "scrolled": true
   },
   "outputs": [],
   "source": [
    "def frequency_distribution(text):\n",
    "    dir_text={}\n",
    "    text=text.lower()\n",
    "    for i in alphabet():\n",
    "        dir_text[i]=0\n",
    "    for i in text:\n",
    "        if(i>='a' and i<='z'):\n",
    "            dir_text[i]= dir_text[i]+1\n",
    "    ex=0\n",
    "    for i in dir_text:\n",
    "        if(dir_text[i]):\n",
    "            ex=ex+1\n",
    "    for i in alphabet():\n",
    "        dir_text[i]=dir_text[i]\n",
    "    return dir_text"
   ]
  },
  {
   "cell_type": "code",
   "execution_count": 23,
   "id": "badccf6b",
   "metadata": {},
   "outputs": [],
   "source": [
    "ant=frequency_distribution('A long time ago, in a galaxy far, far away... It is a dark time for the Rebellion. Although the Death Star has been destroyed, Imperial troops have driven the Rebel forces from their hidden base and pursued them across the galaxy. Evading the dreaded Imperial Starfleet, a group of freedom fighters led by Luke Skywalker has established a new secret base on the remote ice world of Hoth. The evil lord Darth Vader, obsessed with finding young Skywalker, has dispatched thousands of remote probes into the far reaches of space…')"
   ]
  },
  {
   "cell_type": "code",
   "execution_count": 24,
   "id": "1e99fd87",
   "metadata": {},
   "outputs": [
    {
     "data": {
      "text/plain": [
       "<Axes: >"
      ]
     },
     "execution_count": 24,
     "metadata": {},
     "output_type": "execute_result"
    },
    {
     "data": {
      "image/png": "[encoded data removed]",
      "text/plain": [
       "<Figure size 640x480 with 1 Axes>"
      ]
     },
     "metadata": {},
     "output_type": "display_data"
    }
   ],
   "source": [
    "import pandas as pd\n",
    "pd.DataFrame(frequency,index=[0]).plot(kind='bar')"
   ]
  },
  {
   "cell_type": "code",
   "execution_count": 25,
   "id": "4d98fa1b",
   "metadata": {},
   "outputs": [
    {
     "data": {
      "text/plain": [
       "<Axes: >"
      ]
     },
     "execution_count": 25,
     "metadata": {},
     "output_type": "execute_result"
    },
    {
     "data": {
      "image/png": "[encoded data removed]",
      "text/plain": [
       "<Figure size 640x480 with 1 Axes>"
      ]
     },
     "metadata": {},
     "output_type": "display_data"
    }
   ],
   "source": [
    "import pandas as pd\n",
    "pd.DataFrame(ant,index=[0]).plot(kind='bar')\n"
   ]
  },
  {
   "cell_type": "code",
   "execution_count": 26,
   "id": "e45cc366",
   "metadata": {},
   "outputs": [
    {
     "data": {
      "text/plain": [
       "{'a': 14810,\n",
       " 'b': 2715,\n",
       " 'c': 4943,\n",
       " 'd': 7874,\n",
       " 'e': 21912,\n",
       " 'f': 4200,\n",
       " 'g': 3693,\n",
       " 'h': 10795,\n",
       " 'i': 13318,\n",
       " 'j': 188,\n",
       " 'k': 1257,\n",
       " 'l': 7874,\n",
       " 'm': 4761,\n",
       " 'n': 12666,\n",
       " 'o': 14003,\n",
       " 'p': 3316,\n",
       " 'q': 205,\n",
       " 'r': 10977,\n",
       " 's': 11450,\n",
       " 't': 16587,\n",
       " 'u': 5246,\n",
       " 'v': 2019,\n",
       " 'w': 3819,\n",
       " 'x': 315,\n",
       " 'y': 3853,\n",
       " 'z': 128}"
      ]
     },
     "execution_count": 26,
     "metadata": {},
     "output_type": "execute_result"
    }
   ],
   "source": [
    "frequency"
   ]
  },
  {
   "cell_type": "code",
   "execution_count": 27,
   "id": "9c8ab2cf",
   "metadata": {},
   "outputs": [],
   "source": [
    "t='At the emergence of the Wikipedia project in 2001  there were calls to create an Arabic domain raised by Arab engineers.[4] The domain was created as  ar.wikipedia.org  but no serious activity took place except with anonymous users who experimented with the idea.[5] Until 7 February 2003  all contributors to the Arabic Wikipedia were non-Arab volunteers from the International Project Wikipedia[6] that handled the technical aspects. Elizabeth Bauer  who used the user name Elian in the Arabic Wikipedia  approached many Arabic speakers who potentially might be interested in volunteering to spearhead the Arabic project. The only group who responded was the ArabEyes team who were involved in Arabizing the Open Source initiatives. Elian s request was conservatively received and the ArabEyes team was ready to participate but not take a leadership role[7] and then declined to participate on the second of February 2003. During this negotiation time  volunteer users from the German Wikipedia project continued to develop the technical infrastructure of the Arabic Wikipedia backbone.[8][9] In 2003 Rami Tarawneh (Arabic: رامي عوض الطراونة)  a Jordanian PhD student in Germany who originated from Zarqa  encountered the English Wikipedia and began to edit content. Contributors encouraged him to start an Arabic Wikipedia.[10] The Arabic Wikipedia opened in July 2003.[11] By that year a significant group of contributors included Tarawneh and four other Jordanians studying in Germany.[10] On 7 February 2004 [12] one member from the ArabEyes  Isam Bayazidi (Arabic: عصام بايزيدي)  volunteered with 4 other friends to be involved with the Arabic Wikipedia and assumed some leadership roles. In 2004  Bayazid was assigned the SysOp responsibilities and he  with another 5 volunteers  namely Ayman  Abo Suleiman  Mustapha Ahmad and Bassem Jarkas[13] are considered to be the first Arabs to lead the Wikipedia project and they are attributed for working on translating and enforcing the English policies to Arabic. The Arabic Wikipedia faced many challenges at its inception. In February 2004  it was considered to be the worst Wikipedia project among all other languages. However  in 2005  it showed phenomenal progress by which in December 2005  the total number of articles reached 8 285.[14] By that time  there were fewer than 20 contributors and the administrators and contributors made efforts to recruit new users.[10] In 2007 the secret police in an unspecified country detained Tarawneh and demanded that he reveal the IP address of a contributor. To protect the Wikipedian  the administrators forged a dispute that was the presumed reason for Tarawneh losing his administrator access  so the secret police was unable to obtain the IP. In response to the incident  the rules now state that no one user may have access to all information about the Wikipedia s users.[10] Second Conference of the Wikipedia Education Program in Cairo University  Egypt  27 February 2013 In 2008 the Wikipedia had had fewer than 65 000 articles and was ranked No. 29 out of the Wikipedias  behind the Esperanto Wikipedia and the Slovenian Wikipedia. Noam Cohen of The New York Times reported that  to many of the attendees of the 2008 Wikimania conference in Alexandria  Egypt  the  woeful shape of the Arabic Wikipedia has been the cause of chagrin. [15] Cohen stated that out of Egyptians  fewer than 10%  are thought to have internet access  and of those with internet access many tend to be knowledgeable in English and have a preference of communicating in that language.[15] The Arabic Wikipedia had 118 870 articles as of 15 January 2010. As of July 2012 there are around 630 active Arabic Wikipedia editors around the world. Ikram Al-Yacoub of Al Arabiya says that this is  a relatively low figure. [16] At the time there were hundreds of thousands of Wikipedia articles on the Arabic Wikipedia.[10] The Wikimedia Foundation and the nonprofit group Taghreedat established the  Arabic Wikipedia Editors Program  intended to train users to edit the Arabic Wikipedia.[16] By the end of June 2014  the number of articles had reached 384 000[17] Iraqi volunteers have translated much of English Wikipedia into Arabic Wikipedia.[18] More recently  a project named Bayt Alhikma has translated more than 10 000 articles about science and other topics in Arabic. The number of active users in Arabic Wikipedia is increasing quickly  reaching the 10 000 mark for first time on 10 February 2021.[19]'"
   ]
  },
  {
   "cell_type": "code",
   "execution_count": 28,
   "id": "e16a52e0",
   "metadata": {},
   "outputs": [],
   "source": [
    "ant=frequency_distribution(t)"
   ]
  },
  {
   "cell_type": "code",
   "execution_count": 29,
   "id": "91cf2ca4",
   "metadata": {},
   "outputs": [
    {
     "data": {
      "text/plain": [
       "{'a': 360,\n",
       " 'b': 80,\n",
       " 'c': 122,\n",
       " 'd': 154,\n",
       " 'e': 445,\n",
       " 'f': 61,\n",
       " 'g': 49,\n",
       " 'h': 159,\n",
       " 'i': 315,\n",
       " 'j': 14,\n",
       " 'k': 46,\n",
       " 'l': 83,\n",
       " 'm': 66,\n",
       " 'n': 241,\n",
       " 'o': 213,\n",
       " 'p': 88,\n",
       " 'q': 4,\n",
       " 'r': 244,\n",
       " 's': 169,\n",
       " 't': 303,\n",
       " 'u': 87,\n",
       " 'v': 27,\n",
       " 'w': 78,\n",
       " 'x': 3,\n",
       " 'y': 51,\n",
       " 'z': 5}"
      ]
     },
     "execution_count": 29,
     "metadata": {},
     "output_type": "execute_result"
    }
   ],
   "source": [
    "ant"
   ]
  },
  {
   "cell_type": "code",
   "execution_count": 30,
   "id": "876d552e",
   "metadata": {},
   "outputs": [],
   "source": [
    "ant=dict(sorted(ant.items(), key=lambda item: item[1]))"
   ]
  },
  {
   "cell_type": "code",
   "execution_count": 31,
   "id": "2a868a07",
   "metadata": {},
   "outputs": [],
   "source": [
    "frequency=dict(sorted(frequency.items(), key=lambda item: item[1]))"
   ]
  },
  {
   "cell_type": "code",
   "execution_count": 32,
   "id": "6b0129dd",
   "metadata": {},
   "outputs": [
    {
     "data": {
      "text/plain": [
       "{'z': 128,\n",
       " 'j': 188,\n",
       " 'q': 205,\n",
       " 'x': 315,\n",
       " 'k': 1257,\n",
       " 'v': 2019,\n",
       " 'b': 2715,\n",
       " 'p': 3316,\n",
       " 'g': 3693,\n",
       " 'w': 3819,\n",
       " 'y': 3853,\n",
       " 'f': 4200,\n",
       " 'm': 4761,\n",
       " 'c': 4943,\n",
       " 'u': 5246,\n",
       " 'd': 7874,\n",
       " 'l': 7874,\n",
       " 'h': 10795,\n",
       " 'r': 10977,\n",
       " 's': 11450,\n",
       " 'n': 12666,\n",
       " 'i': 13318,\n",
       " 'o': 14003,\n",
       " 'a': 14810,\n",
       " 't': 16587,\n",
       " 'e': 21912}"
      ]
     },
     "execution_count": 32,
     "metadata": {},
     "output_type": "execute_result"
    }
   ],
   "source": [
    "frequency"
   ]
  },
  {
   "cell_type": "code",
   "execution_count": 33,
   "id": "e2806857",
   "metadata": {},
   "outputs": [
    {
     "data": {
      "text/plain": [
       "[('z', 'x'),\n",
       " ('j', 'q'),\n",
       " ('q', 'z'),\n",
       " ('x', 'j'),\n",
       " ('k', 'v'),\n",
       " ('v', 'k'),\n",
       " ('b', 'g'),\n",
       " ('p', 'y'),\n",
       " ('g', 'f'),\n",
       " ('w', 'm'),\n",
       " ('y', 'w'),\n",
       " ('f', 'b'),\n",
       " ('m', 'l'),\n",
       " ('c', 'u'),\n",
       " ('u', 'p'),\n",
       " ('d', 'c'),\n",
       " ('l', 'd'),\n",
       " ('h', 'h'),\n",
       " ('r', 's'),\n",
       " ('s', 'o'),\n",
       " ('n', 'n'),\n",
       " ('i', 'r'),\n",
       " ('o', 't'),\n",
       " ('a', 'i'),\n",
       " ('t', 'a'),\n",
       " ('e', 'e')]"
      ]
     },
     "execution_count": 33,
     "metadata": {},
     "output_type": "execute_result"
    }
   ],
   "source": [
    "list(zip(frequency,ant))"
   ]
  },
  {
   "cell_type": "code",
   "execution_count": 34,
   "id": "e9f91d44",
   "metadata": {},
   "outputs": [],
   "source": [
    "b=dict(zip(frequency,ant))"
   ]
  },
  {
   "cell_type": "code",
   "execution_count": 35,
   "id": "ac5e7661",
   "metadata": {},
   "outputs": [
    {
     "data": {
      "text/plain": [
       "{'z': 'x',\n",
       " 'j': 'q',\n",
       " 'q': 'z',\n",
       " 'x': 'j',\n",
       " 'k': 'v',\n",
       " 'v': 'k',\n",
       " 'b': 'g',\n",
       " 'p': 'y',\n",
       " 'g': 'f',\n",
       " 'w': 'm',\n",
       " 'y': 'w',\n",
       " 'f': 'b',\n",
       " 'm': 'l',\n",
       " 'c': 'u',\n",
       " 'u': 'p',\n",
       " 'd': 'c',\n",
       " 'l': 'd',\n",
       " 'h': 'h',\n",
       " 'r': 's',\n",
       " 's': 'o',\n",
       " 'n': 'n',\n",
       " 'i': 'r',\n",
       " 'o': 't',\n",
       " 'a': 'i',\n",
       " 't': 'a',\n",
       " 'e': 'e'}"
      ]
     },
     "execution_count": 35,
     "metadata": {},
     "output_type": "execute_result"
    }
   ],
   "source": [
    "b"
   ]
  },
  {
   "cell_type": "code",
   "execution_count": 36,
   "id": "725b5451",
   "metadata": {},
   "outputs": [],
   "source": [
    "def __monoalphabetic(plaintext,cipher,plain=alphabet()):\n",
    "    plaintext=plaintext.lower()\n",
    "    directory_letter=cipher\n",
    "    ciphertext=\"\"\n",
    "    for i in plaintext:\n",
    "        if(i>='a' and i<='z'):\n",
    "            ciphertext=ciphertext+directory_letter[i].lower()\n",
    "        elif(i>='A' and i<='Z'):\n",
    "            ciphertext=ciphertext+str(directory_letter[i.lower()].upper())\n",
    "        else:\n",
    "            ciphertext=ciphertext+i\n",
    "    return ciphertext"
   ]
  },
  {
   "cell_type": "markdown",
   "id": "b2c51069",
   "metadata": {},
   "source": [
    "For instance, FAR ABOVE CAYUGA’S WATERS is enciphered as OCVCA NWYIC QPBCE LCGYE.\n"
   ]
  },
  {
   "cell_type": "code",
   "execution_count": 37,
   "id": "a498245a",
   "metadata": {},
   "outputs": [],
   "source": [
    "b['i']='a'\n",
    "b['a']='n'\n",
    "b['n']='a'"
   ]
  },
  {
   "cell_type": "code",
   "execution_count": 38,
   "id": "9f8a6d82",
   "metadata": {},
   "outputs": [
    {
     "data": {
      "text/plain": [
       "'na ahe elesfeaue tb ahe mavayecan ystqeua aa 2001  ahese mese unddo at usenae na nsngau ctlnaa snaoec gw nsng eafaaeeso.[4] ahe ctlnaa mno usenaec no  ns.mavayecan.tsf  gpa at oesatpo nuaakaaw attv ydnue ejueya maah natawltpo poeso mht ejyesaleaaec maah ahe acen.[5] paaad 7 begspnsw 2003  ndd utaasagpatso at ahe nsngau mavayecan mese ata-nsng ktdpaaeeso bstl ahe aaaesanaatand ystqeua mavayecan[6] ahna hnacdec ahe aeuhaaund noyeuao. edaxngeah gnpes  mht poec ahe poes anle edana aa ahe nsngau mavayecan  nyystnuhec lnaw nsngau oyenveso mht ytaeaaanddw lafha ge aaaeseoaec aa ktdpaaeesaaf at oyenshenc ahe nsngau ystqeua. ahe tadw fstpy mht seoytacec mno ahe nsngeweo aenl mht mese aaktdkec aa nsngaxaaf ahe tyea otpsue aaaaanaakeo. edana o sezpeoa mno utaoesknaakedw seueakec nac ahe nsngeweo aenl mno sencw at ynsaauaynae gpa ata anve n dencesohay stde[7] nac ahea ceudaaec at ynsaauaynae ta ahe oeutac tb begspnsw 2003. cpsaaf ahao aeftaanaata aale  ktdpaaees poeso bstl ahe feslna mavayecan ystqeua utaaaapec at cekedty ahe aeuhaaund aabsnoaspuapse tb ahe nsngau mavayecan gnuvgtae.[8][9] aa 2003 snla ansnmaeh (nsngau: رامي عوض الطراونة)  n qtscnaana yhc oapceaa aa feslnaw mht tsafaanaec bstl xnszn  eautpaaesec ahe eafdaoh mavayecan nac gefna at ecaa utaaeaa. utaasagpatso eautpsnfec hal at oansa na nsngau mavayecan.[10] ahe nsngau mavayecan tyeaec aa qpdw 2003.[11] gw ahna wens n oafaabaunaa fstpy tb utaasagpatso aaudpcec ansnmaeh nac btps tahes qtscnaanao oapcwaaf aa feslnaw.[10] ta 7 begspnsw 2004 [12] tae lelges bstl ahe nsngeweo  aonl gnwnxaca (nsngau: عصام بايزيدي)  ktdpaaeesec maah 4 tahes bsaeaco at ge aaktdkec maah ahe nsngau mavayecan nac nooplec otle dencesohay stdeo. aa 2004  gnwnxac mno nooafaec ahe owoty seoytaoagadaaaeo nac he  maah natahes 5 ktdpaaeeso  anledw nwlna  ngt opdealna  lpoanyhn nhlnc nac gnooel qnsvno[13] nse utaoacesec at ge ahe basoa nsngo at denc ahe mavayecan ystqeua nac ahew nse naasagpaec bts mtsvaaf ta asnaodnaaaf nac eabtsuaaf ahe eafdaoh ytdauaeo at nsngau. ahe nsngau mavayecan bnuec lnaw uhnddeafeo na aao aaueyaata. aa begspnsw 2004  aa mno utaoacesec at ge ahe mtsoa mavayecan ystqeua nltaf ndd tahes dnafpnfeo. htmekes  aa 2005  aa ohtmec yheatleand ystfseoo gw mhauh aa ceuelges 2005  ahe atand aplges tb nsaaudeo senuhec 8 285.[14] gw ahna aale  ahese mese bemes ahna 20 utaasagpatso nac ahe nclaaaoasnatso nac utaasagpatso lnce ebbtsao at seuspaa aem poeso.[10] aa 2007 ahe oeusea ytdaue aa na paoyeuabaec utpaasw ceanaaec ansnmaeh nac celnacec ahna he sekend ahe ay nccseoo tb n utaasagpats. at ystaeua ahe mavayecana  ahe nclaaaoasnatso btsfec n caoypae ahna mno ahe yseoplec senota bts ansnmaeh dtoaaf hao nclaaaoasnats nuueoo  ot ahe oeusea ytdaue mno pangde at tganaa ahe ay. aa seoytaoe at ahe aauaceaa  ahe spdeo atm oanae ahna at tae poes lnw hnke nuueoo at ndd aabtslnaata ngtpa ahe mavayecan o poeso.[10] oeutac utabeseaue tb ahe mavayecan ecpunaata ystfsnl aa unast paakesoaaw  efwya  27 begspnsw 2013 aa 2008 ahe mavayecan hnc hnc bemes ahna 65 000 nsaaudeo nac mno snavec at. 29 tpa tb ahe mavayecano  gehaac ahe eoyesnaat mavayecan nac ahe odtkeaana mavayecan. atnl uthea tb ahe aem wtsv aaleo seytsaec ahna  at lnaw tb ahe naaeaceeo tb ahe 2008 mavalnaan utabeseaue aa ndejnacsan  efwya  ahe  mtebpd ohnye tb ahe nsngau mavayecan hno geea ahe unpoe tb uhnfsaa. [15] uthea oanaec ahna tpa tb efwyaanao  bemes ahna 10%  nse ahtpfha at hnke aaaesaea nuueoo  nac tb ahtoe maah aaaesaea nuueoo lnaw aeac at ge vatmdecfengde aa eafdaoh nac hnke n ysebeseaue tb utllpaaunaaaf aa ahna dnafpnfe.[15] ahe nsngau mavayecan hnc 118 870 nsaaudeo no tb 15 qnapnsw 2010. no tb qpdw 2012 ahese nse nstpac 630 nuaake nsngau mavayecan ecaatso nstpac ahe mtsdc. avsnl nd-wnutpg tb nd nsngawn onwo ahna ahao ao  n sednaakedw dtm bafpse. [16] na ahe aale ahese mese hpacseco tb ahtponaco tb mavayecan nsaaudeo ta ahe nsngau mavayecan.[10] ahe mavalecan btpacnaata nac ahe ataystbaa fstpy anfhseecna eoangdaohec ahe  nsngau mavayecan ecaatso ystfsnl  aaaeacec at asnaa poeso at ecaa ahe nsngau mavayecan.[16] gw ahe eac tb qpae 2014  ahe aplges tb nsaaudeo hnc senuhec 384 000[17] asnza ktdpaaeeso hnke asnaodnaec lpuh tb eafdaoh mavayecan aaat nsngau mavayecan.[18] ltse seueaadw  n ystqeua anlec gnwa ndhavln hno asnaodnaec ltse ahna 10 000 nsaaudeo ngtpa ouaeaue nac tahes atyauo aa nsngau. ahe aplges tb nuaake poeso aa nsngau mavayecan ao aausenoaaf zpauvdw  senuhaaf ahe 10 000 lnsv bts basoa aale ta 10 begspnsw 2021.[19]'"
      ]
     },
     "execution_count": 38,
     "metadata": {},
     "output_type": "execute_result"
    }
   ],
   "source": [
    "__monoalphabetic(t,b)"
   ]
  },
  {
   "cell_type": "code",
   "execution_count": 39,
   "id": "a534a1b9",
   "metadata": {},
   "outputs": [
    {
     "name": "stdout",
     "output_type": "stream",
     "text": [
      "21\n",
      "5\n"
     ]
    }
   ],
   "source": [
    "print(ord('v')-ord('a'))\n",
    "print(ord('f')-ord('a'))"
   ]
  },
  {
   "cell_type": "code",
   "execution_count": 40,
   "id": "03e194a7",
   "metadata": {},
   "outputs": [
    {
     "data": {
      "text/plain": [
       "26"
      ]
     },
     "execution_count": 40,
     "metadata": {},
     "output_type": "execute_result"
    }
   ],
   "source": [
    "ord('v')+ord('f')-2*ord('a')"
   ]
  },
  {
   "cell_type": "code",
   "execution_count": 41,
   "id": "e92863a4",
   "metadata": {},
   "outputs": [
    {
     "data": {
      "text/plain": [
       "103"
      ]
     },
     "execution_count": 41,
     "metadata": {},
     "output_type": "execute_result"
    }
   ],
   "source": [
    "3*2+ord('a')"
   ]
  },
  {
   "cell_type": "raw",
   "id": "e759d105",
   "metadata": {},
   "source": [
    "def alphabet(shift=0,capital=False,custom_alphabet=None):\n",
    "    import math\n",
    "    alphabetical_list=[]\n",
    "    type_alphabet=ord('a')\n",
    "    if(capital):\n",
    "        type_alphabet=ord('A')\n",
    "        \n",
    "    if(custom_alphabet!=None):\n",
    "        factor=math.ceil(26/len(custom_alphabet))\n",
    "        custom_alphabet=custom_alphabet*factor\n",
    "        for alpha in range(26):\n",
    "            alphabetical_list.append(custom_alphabet[alpha])\n",
    "    else:\n",
    "        if(shift<0):\n",
    "            shift=(26+(shift%26))\n",
    "        for alpha in range(26):\n",
    "            alphabetical_list.append((alpha+shift)%26+type_alphabet)\n",
    "    return alphabetical_list"
   ]
  },
  {
   "cell_type": "code",
   "execution_count": 42,
   "id": "3cb8263b",
   "metadata": {},
   "outputs": [],
   "source": [
    "matrix=[]\n",
    "for alpha in range(26):\n",
    "    matrix.append(alphabet(shift=alpha))"
   ]
  },
  {
   "cell_type": "code",
   "execution_count": 43,
   "id": "6a70e9dc",
   "metadata": {},
   "outputs": [
    {
     "name": "stdout",
     "output_type": "stream",
     "text": [
      "a b c d e f g h i j k l m n o p q r s t u v w x y z \n",
      "b c d e f g h i j k l m n o p q r s t u v w x y z a \n",
      "c d e f g h i j k l m n o p q r s t u v w x y z a b \n",
      "d e f g h i j k l m n o p q r s t u v w x y z a b c \n",
      "e f g h i j k l m n o p q r s t u v w x y z a b c d \n",
      "f g h i j k l m n o p q r s t u v w x y z a b c d e \n",
      "g h i j k l m n o p q r s t u v w x y z a b c d e f \n",
      "h i j k l m n o p q r s t u v w x y z a b c d e f g \n",
      "i j k l m n o p q r s t u v w x y z a b c d e f g h \n",
      "j k l m n o p q r s t u v w x y z a b c d e f g h i \n",
      "k l m n o p q r s t u v w x y z a b c d e f g h i j \n",
      "l m n o p q r s t u v w x y z a b c d e f g h i j k \n",
      "m n o p q r s t u v w x y z a b c d e f g h i j k l \n",
      "n o p q r s t u v w x y z a b c d e f g h i j k l m \n",
      "o p q r s t u v w x y z a b c d e f g h i j k l m n \n",
      "p q r s t u v w x y z a b c d e f g h i j k l m n o \n",
      "q r s t u v w x y z a b c d e f g h i j k l m n o p \n",
      "r s t u v w x y z a b c d e f g h i j k l m n o p q \n",
      "s t u v w x y z a b c d e f g h i j k l m n o p q r \n",
      "t u v w x y z a b c d e f g h i j k l m n o p q r s \n",
      "u v w x y z a b c d e f g h i j k l m n o p q r s t \n",
      "v w x y z a b c d e f g h i j k l m n o p q r s t u \n",
      "w x y z a b c d e f g h i j k l m n o p q r s t u v \n",
      "x y z a b c d e f g h i j k l m n o p q r s t u v w \n",
      "y z a b c d e f g h i j k l m n o p q r s t u v w x \n",
      "z a b c d e f g h i j k l m n o p q r s t u v w x y \n"
     ]
    }
   ],
   "source": [
    "for i in range(26):\n",
    "    for j in range(26):\n",
    "        print(str(matrix[i][j])+\" \",end=\"\")\n",
    "    print('')"
   ]
  },
  {
   "cell_type": "code",
   "execution_count": 44,
   "id": "2bd92316",
   "metadata": {},
   "outputs": [
    {
     "data": {
      "text/plain": [
       "'p'"
      ]
     },
     "execution_count": 44,
     "metadata": {},
     "output_type": "execute_result"
    }
   ],
   "source": [
    "chr((ord('y')+ord('r')-ord('a')*2)%26+ord('a'))"
   ]
  },
  {
   "cell_type": "markdown",
   "id": "fe4dc1fb",
   "metadata": {},
   "source": [
    "## Vigenère cipher\n",
    "Plaintext letters $P=p_0,p_1,p_2,\\ldots,p_{n-1}$\n",
    "<br>\n",
    "Key letters $K=k_0,k_1,k_2,\\ldots,p_{m-1}$\n",
    "<br>\n",
    "ciphertext letters $C=c_0,c_1,c_2,\\ldots,c_{n-1}$\n",
    "<br>\n",
    "<br>\n",
    "$\\text{where } m<=n$\n",
    "<br>\n",
    "<br>\n",
    "$C=c_0,c_1,c_2,\\ldots,c_{n-1}=E(K,P)=E\\bigl[(k_0,k_1,k_2,\\ldots,p_{m-1}),(p_0,p_1,p_2,\\ldots,p_{n-1})\\bigl]$\n",
    "<br>\n",
    "<br>\n",
    "$C=\\bigl[(p_0+k_0)\\mod 26,(p_1+k_1)\\mod 26,\\ldots,(p_{m-1}+k_{m-1})\\mod 26\\bigl]$\n",
    "<pre>\n",
    "key:        deceptivewearediscoveredsav\n",
    "plaintext:  wearediscoveredsaveyourself\n",
    "ciphertext: ZICVTWONGKZEIIGASXSTSLVVWLA\n",
    "</pre>\n",
    "\n",
    "<pre>\n",
    "    PLAINTEXT                                   |\n",
    "    vvvvvvvvv                                   v\n",
    "KEY>a b c d e f g h i j k l m n o p q r s t u v|w|x y z \n",
    "    b c d e f g h i j k l m n o p q r s t u v w|x|y z a \n",
    "    c d e f g h i j k l m n o p q r s t u v w x|y|z a b \n",
    " -->d e f g h i j k l m n o p q r s t u v w x y(z)a b c \n",
    "    e f g h i j k l m n o p q r s t u v w x y z a b c d \n",
    "    f g h i j k l m n o p q r s t u v w x y z a b c d e \n",
    "    g h i j k l m n o p q r s t u v w x y z a b c d e f \n",
    "    h i j k l m n o p q r s t u v w x y z a b c d e f g \n",
    "    i j k l m n o p q r s t u v w x y z a b c d e f g h \n",
    "    j k l m n o p q r s t u v w x y z a b c d e f g h i \n",
    "    k l m n o p q r s t u v w x y z a b c d e f g h i j \n",
    "    l m n o p q r s t u v w x y z a b c d e f g h i j k \n",
    "    m n o p q r s t u v w x y z a b c d e f g h i j k l \n",
    "    n o p q r s t u v w x y z a b c d e f g h i j k l m \n",
    "    o p q r s t u v w x y z a b c d e f g h i j k l m n \n",
    "    p q r s t u v w x y z a b c d e f g h i j k l m n o \n",
    "    q r s t u v w x y z a b c d e f g h i j k l m n o p \n",
    "    r s t u v w x y z a b c d e f g h i j k l m n o p q \n",
    "    s t u v w x y z a b c d e f g h i j k l m n o p q r \n",
    "    t u v w x y z a b c d e f g h i j k l m n o p q r s \n",
    "    u v w x y z a b c d e f g h i j k l m n o p q r s t \n",
    "    v w x y z a b c d e f g h i j k l m n o p q r s t u \n",
    "    w x y z a b c d e f g h i j k l m n o p q r s t u v \n",
    "    x y z a b c d e f g h i j k l m n o p q r s t u v w \n",
    "    y z a b c d e f g h i j k l m n o p q r s t u v w x \n",
    "    z a b c d e f g h i j k l m n o p q r s t u v w x y </pre>"
   ]
  },
  {
   "cell_type": "code",
   "execution_count": 45,
   "id": "a29edbcd",
   "metadata": {},
   "outputs": [],
   "source": [
    "matrix=[]\n",
    "for alpha in range(26):\n",
    "    matrix.append(alphabet(shift=alpha))\n"
   ]
  },
  {
   "cell_type": "raw",
   "id": "72c74cf9",
   "metadata": {},
   "source": [
    "for i in range(26):\n",
    "    for j in range(26):\n",
    "        print(matrix[i][j]+\" \",end=\"\")\n",
    "    print('')"
   ]
  },
  {
   "cell_type": "code",
   "execution_count": 46,
   "id": "9c39dba7",
   "metadata": {},
   "outputs": [
    {
     "data": {
      "text/plain": [
       "3"
      ]
     },
     "execution_count": 46,
     "metadata": {},
     "output_type": "execute_result"
    }
   ],
   "source": [
    "ord('d')-ord('a')"
   ]
  },
  {
   "cell_type": "code",
   "execution_count": 47,
   "id": "bd72d511",
   "metadata": {
    "scrolled": true
   },
   "outputs": [
    {
     "data": {
      "text/plain": [
       "22"
      ]
     },
     "execution_count": 47,
     "metadata": {},
     "output_type": "execute_result"
    }
   ],
   "source": [
    "ord('w')-ord('a')"
   ]
  },
  {
   "cell_type": "code",
   "execution_count": 48,
   "id": "8395fd7c",
   "metadata": {},
   "outputs": [
    {
     "data": {
      "text/plain": [
       "'z'"
      ]
     },
     "execution_count": 48,
     "metadata": {},
     "output_type": "execute_result"
    }
   ],
   "source": [
    "matrix[3][22]"
   ]
  },
  {
   "cell_type": "code",
   "execution_count": 49,
   "id": "8a68f5cc",
   "metadata": {},
   "outputs": [
    {
     "data": {
      "text/plain": [
       "(97, 122)"
      ]
     },
     "execution_count": 49,
     "metadata": {},
     "output_type": "execute_result"
    }
   ],
   "source": [
    "ord('a'),ord('z')"
   ]
  },
  {
   "cell_type": "code",
   "execution_count": 50,
   "id": "7a392d1f",
   "metadata": {},
   "outputs": [
    {
     "data": {
      "text/plain": [
       "(65, 90)"
      ]
     },
     "execution_count": 50,
     "metadata": {},
     "output_type": "execute_result"
    }
   ],
   "source": [
    "ord('A'),ord('Z')"
   ]
  },
  {
   "cell_type": "markdown",
   "id": "ee3a00e1",
   "metadata": {},
   "source": [
    "## Way 2"
   ]
  },
  {
   "cell_type": "markdown",
   "id": "17b5b4ae",
   "metadata": {},
   "source": [
    "**Encipher**"
   ]
  },
  {
   "cell_type": "code",
   "execution_count": 51,
   "id": "55b32eef",
   "metadata": {},
   "outputs": [],
   "source": [
    "def vigenere_cipher_encipher(planetext,cipherkey):\n",
    "    encode_text=\"\"\n",
    "    cipherkey=cipherkey.lower()\n",
    "    if(len(cipherkey)<len(planetext)):\n",
    "        # Sentence repeat\n",
    "        import math\n",
    "        factor=len(planetext)/len(cipherkey)\n",
    "        cipherkey=cipherkey*math.ceil(factor)\n",
    "        \n",
    "    for alpha in range(len(planetext)):\n",
    "        if(planetext[alpha]>='a' and planetext[alpha]<='z' or planetext[alpha]>='A' and planetext[alpha]<='Z'):\n",
    "            type_char=ord('a')\n",
    "            if(planetext[alpha]<='Z'):\n",
    "                type_char=ord('A')\n",
    "            # letter_planetext position + letter_ciphertext position - ASCII Code\n",
    "            letter_position=ord(planetext[alpha])+ord(cipherkey[alpha])-type_char-ord('a')\n",
    "            encode_text=encode_text+chr((letter_position)%26+type_char)\n",
    "        else:\n",
    "            encode_text=encode_text+planetext[alpha]\n",
    "    return encode_text"
   ]
  },
  {
   "cell_type": "markdown",
   "id": "77dbfbdb",
   "metadata": {},
   "source": [
    "**Decipher**"
   ]
  },
  {
   "cell_type": "code",
   "execution_count": 52,
   "id": "e906cc01",
   "metadata": {},
   "outputs": [],
   "source": [
    "def vigenere_cipher_decipher(planetext,cipherkey):\n",
    "    encode_text=\"\"\n",
    "    cipherkey=cipherkey.lower()\n",
    "    if(len(cipherkey)<len(planetext)):\n",
    "        # Sentence repeat\n",
    "        import math\n",
    "        factor=len(planetext)/len(cipherkey)\n",
    "        cipherkey=cipherkey*math.ceil(factor)\n",
    "        \n",
    "    for alpha in range(len(planetext)):\n",
    "        if(planetext[alpha]>='a' and planetext[alpha]<='z' or planetext[alpha]>='A' and planetext[alpha]<='Z'):\n",
    "            type_char=ord('a')\n",
    "            if(planetext[alpha]<='Z'):\n",
    "                type_char=ord('A')\n",
    "            # letter_planetext position + letter_ciphertext position - ASCII Code\n",
    "            letter_position=(ord(planetext[alpha])-type_char)-(ord(cipherkey[alpha])-ord('a'))\n",
    "            encode_text=encode_text+chr((letter_position)%26+type_char)\n",
    "        else:\n",
    "            encode_text=encode_text+planetext[alpha]\n",
    "    return encode_text"
   ]
  },
  {
   "cell_type": "code",
   "execution_count": 53,
   "id": "b99ff0ad",
   "metadata": {},
   "outputs": [
    {
     "name": "stdout",
     "output_type": "stream",
     "text": [
      "ZIcvtwqngkzeiigasxstslvvwla\n",
      "WearediscovEredsaveYourself\n"
     ]
    }
   ],
   "source": [
    "print(vigenere_cipher_encipher('WEarediscoveredsaveyourself','DEceptiVEwearediscoveredsav'))\n",
    "print(vigenere_cipher_decipher('ZicvtwqngkzEiigasxsTslvvwla','deceptivewearediscoveredsav'))"
   ]
  },
  {
   "cell_type": "code",
   "execution_count": 54,
   "id": "e986f175",
   "metadata": {},
   "outputs": [
    {
     "name": "stdout",
     "output_type": "stream",
     "text": [
      "ZIcvtwqngkzeiigasxstslvvwla\n",
      "WearediscovEredsaveYourself\n"
     ]
    }
   ],
   "source": [
    "print(vigenere_cipher_encipher('WEarediscoveredsaveyourself','DEceptiVEwearediscoveredsav'))\n",
    "print(vigenere_cipher_decipher('ZicvtwqngkzEiigasxsTslvvwla','deceptivewearediscoveredsav'))"
   ]
  },
  {
   "cell_type": "markdown",
   "id": "82bf78ab",
   "metadata": {},
   "source": [
    "<pre>\n",
    "key:        deceptivewearediscoveredsav\n",
    "plaintext:  wearediscoveredsaveyourself\n",
    "ciphertext: ZICVTWONGKZEIIGASXSTSLVVWLA\n",
    "</pre>"
   ]
  },
  {
   "cell_type": "markdown",
   "id": "bc431c91",
   "metadata": {},
   "source": [
    "## Playfiar\n",
    "<pre>\n",
    "key:        deceptivewearediscoveredsav\n",
    "plaintext:  wearediscoveredsaveyourself\n",
    "ciphertext: VCRICESHEBOVVTIHRWPUKEIGCKBY\n",
    "The Playfair algorithm is based on the use of a 5 * 5 matrix of letters\n",
    "constructed using a keyword.\n",
    "• In this case, the keyword is monarchy.\n",
    "• The matrix is constructed by filling in the letters of the keyword (minus duplicates) from left to right and from top to bottom, and then filling in the\n",
    "remainder of the matrix with the remaining letters in alphabetic order.\n",
    "• The letters I and J count as one letter.\n",
    "</pre>\n"
   ]
  },
  {
   "cell_type": "code",
   "execution_count": 55,
   "id": "f02e12d0",
   "metadata": {},
   "outputs": [],
   "source": [
    "def playfiar_alphabet_adder(cipher,shift=0,capital=False):\n",
    "    if(shift<0):\n",
    "        shift=(26+(shift%26))\n",
    "    alphabetical_list=[]\n",
    "    for alpha in cipher:\n",
    "        if(alpha in alphabetical_list):\n",
    "            continue\n",
    "        alphabetical_list.append(alpha)\n",
    "    type_alphabet=ord('a')\n",
    "    if(capital):\n",
    "        type_alphabet=ord('A')\n",
    "    for alpha in range(26):\n",
    "        letter=chr((alpha+shift)%26+type_alphabet)\n",
    "        if(letter in alphabetical_list or letter =='j'):\n",
    "            continue\n",
    "        alphabetical_list.append(letter)\n",
    "    return alphabetical_list"
   ]
  },
  {
   "cell_type": "code",
   "execution_count": 56,
   "id": "208ae0d2",
   "metadata": {
    "scrolled": true
   },
   "outputs": [
    {
     "name": "stdout",
     "output_type": "stream",
     "text": [
      "\n",
      "p l a y f \n",
      "i r b c d \n",
      "e g h k m \n",
      "n o q s t \n",
      "u v w x z "
     ]
    }
   ],
   "source": [
    "matrix_alphabet=playfiar_alphabet_adder('playfiar')\n",
    "for i in range(len(matrix_alphabet)):\n",
    "    if(i%5==0):\n",
    "        print('')\n",
    "    print(matrix_alphabet[i],end=' ')"
   ]
  },
  {
   "cell_type": "code",
   "execution_count": 57,
   "id": "c4338a99",
   "metadata": {},
   "outputs": [],
   "source": [
    "def pairs_of_letters(planetext,separate_by='x'):\n",
    "    planetext_as_pairs=[]\n",
    "    index=0\n",
    "    len_planetext=len(planetext)\n",
    "    if(len_planetext%2==1):\n",
    "        planetext=planetext+separate_by\n",
    "    while(index<len_planetext):\n",
    "        if((index+1)==len_planetext) or planetext[index]==planetext[index+1]:\n",
    "            planetext_as_pairs.append((planetext[index],separate_by))\n",
    "            index=index+1\n",
    "            continue\n",
    "        planetext_as_pairs.append((planetext[index],planetext[index+1]))\n",
    "        index=index+2\n",
    "    return planetext_as_pairs"
   ]
  },
  {
   "cell_type": "code",
   "execution_count": 58,
   "id": "c572b63e",
   "metadata": {},
   "outputs": [
    {
     "data": {
      "text/plain": [
       "[('a', 'b'), ('c', 'd'), ('a', 'n'), ('n', 'x'), ('n', 'x')]"
      ]
     },
     "execution_count": 58,
     "metadata": {},
     "output_type": "execute_result"
    }
   ],
   "source": [
    "pairs_of_letters('abcdannn')"
   ]
  },
  {
   "cell_type": "code",
   "execution_count": 59,
   "id": "c994b89a",
   "metadata": {},
   "outputs": [
    {
     "data": {
      "text/plain": [
       "[('p', 'l'), ('a', 'y'), ('f', 'i'), ('a', 'r')]"
      ]
     },
     "execution_count": 59,
     "metadata": {},
     "output_type": "execute_result"
    }
   ],
   "source": [
    "pairs_of_letters('playfiar')"
   ]
  },
  {
   "cell_type": "code",
   "execution_count": 60,
   "id": "bbea035b",
   "metadata": {},
   "outputs": [],
   "source": [
    "def playfiar_matrix(key):\n",
    "    key=key.lower()\n",
    "    matrix_alphabet=playfiar_alphabet_adder(key)\n",
    "    matrix_return=[]\n",
    "    inner_matrix=[]\n",
    "    for i in range(len(matrix_alphabet)):\n",
    "        if(i!=0 and i%5==0):\n",
    "            matrix_return.append(inner_matrix)\n",
    "            inner_matrix=[]\n",
    "        inner_matrix.append(matrix_alphabet[i])\n",
    "    matrix_return.append(inner_matrix)\n",
    "    return matrix_return"
   ]
  },
  {
   "cell_type": "code",
   "execution_count": 61,
   "id": "f8f2c6c8",
   "metadata": {},
   "outputs": [],
   "source": [
    "playfiar_alphabet_adder('playfiar');"
   ]
  },
  {
   "cell_type": "code",
   "execution_count": 62,
   "id": "b97cc315",
   "metadata": {},
   "outputs": [
    {
     "data": {
      "text/plain": [
       "[('p', 'l'), ('a', 'y'), ('f', 'i'), ('a', 'r')]"
      ]
     },
     "execution_count": 62,
     "metadata": {},
     "output_type": "execute_result"
    }
   ],
   "source": [
    "pairs_of_letters('playfiar')"
   ]
  },
  {
   "cell_type": "code",
   "execution_count": 63,
   "id": "b46fac18",
   "metadata": {},
   "outputs": [
    {
     "data": {
      "text/plain": [
       "[['p', 'l', 'a', 'y', 'f'],\n",
       " ['i', 'r', 'b', 'c', 'd'],\n",
       " ['e', 'g', 'h', 'k', 'm'],\n",
       " ['n', 'o', 'q', 's', 't'],\n",
       " ['u', 'v', 'w', 'x', 'z']]"
      ]
     },
     "execution_count": 63,
     "metadata": {},
     "output_type": "execute_result"
    }
   ],
   "source": [
    "playfiar_matrix('playfiar')"
   ]
  },
  {
   "cell_type": "code",
   "execution_count": 64,
   "id": "fee7910f",
   "metadata": {},
   "outputs": [],
   "source": [
    "def playfiar_matrix_finder(letter_alpha,letter_beta,matrix):\n",
    "    index_alpha=(7,7)\n",
    "    index_beta=(7,7)\n",
    "    cip=\"\"\n",
    "    \n",
    "    for k in range(len(matrix)):\n",
    "        for h in range(len(matrix)):\n",
    "            if(letter_alpha.lower()==matrix[k][h]):\n",
    "                # print(letter_alpha)\n",
    "                index_alpha=(k,h)\n",
    "            if(letter_beta.lower()==matrix[k][h]):\n",
    "                # print(letter_beta)\n",
    "                index_beta=(k,h)\n",
    "            if(index_alpha!=(7,7) and index_beta!=(7,7)):\n",
    "                # print(index_alpha)\n",
    "                # print(index_beta)\n",
    "                if(index_alpha[1]==index_beta[1]):\n",
    "                    # print('col')\n",
    "                    cip=cip+matrix[(index_alpha[0]+1)%5][index_alpha[1]%5]\n",
    "                    cip=cip+matrix[(index_beta[0]+1)%5][index_beta[1]%5] \n",
    "                elif(index_alpha[0]==index_beta[0]):\n",
    "                    # print('row')\n",
    "                    cip=cip+matrix[index_alpha[0]%5][(index_alpha[1]+1)%5]\n",
    "                    cip=cip+matrix[index_beta[0]%5][(index_beta[1]+1)%5]\n",
    "                elif(index_alpha[0]==index_beta[1] or index_alpha[1]==index_beta[0]):\n",
    "                    # print('rectangle or square')\n",
    "                    cip=cip+matrix[index_alpha[0]][(index_beta[1])]\n",
    "                    cip=cip+matrix[index_beta[0]][(index_alpha[1])]\n",
    "                else:\n",
    "                    # print('rectangle or square')\n",
    "                    cip=cip+matrix[index_alpha[0]][(index_beta[1])]\n",
    "                    cip=cip+matrix[index_beta[0]][(index_alpha[1])]\n",
    "                index_alpha=(7,7)\n",
    "                index_beta=(7,7)\n",
    "    case=\"\"\n",
    "    if(letter_alpha>='A' and letter_alpha<='Z'):\n",
    "        case=case+cip[0].upper()\n",
    "    else:\n",
    "        case=case+cip[0]\n",
    "    if(letter_beta>='A' and letter_beta<='Z'):\n",
    "        case=case+cip[1].upper()\n",
    "    else:\n",
    "        case=case+cip[1]\n",
    "    return case"
   ]
  },
  {
   "cell_type": "code",
   "execution_count": 65,
   "id": "86cd1151",
   "metadata": {
    "scrolled": false
   },
   "outputs": [
    {
     "data": {
      "text/plain": [
       "'rfbvutri'"
      ]
     },
     "execution_count": 65,
     "metadata": {},
     "output_type": "execute_result"
    }
   ],
   "source": [
    "def playfair_solver(planetext,key):\n",
    "    planetext_pairs=pairs_of_letters(planetext)\n",
    "    matrix=playfiar_matrix(key)\n",
    "    cip=\"\"\n",
    "    for letter_alpha,letter_beta in planetext_pairs:\n",
    "        cip=cip+playfiar_matrix_finder(letter_alpha,letter_beta,matrix) \n",
    "    return cip\n",
    "playfair_solver('falkonps','freepalestine')"
   ]
  },
  {
   "cell_type": "markdown",
   "id": "99c06dba",
   "metadata": {},
   "source": [
    "<pre>\n",
    "key:        deceptivewearediscoveredsav\n",
    "plaintext:  wearediscoveredsaveyourself\n",
    "ciphertext: VCRICESHEBOVVTIHRWPUKEIGCKBY\n",
    "</pre>\n"
   ]
  },
  {
   "cell_type": "code",
   "execution_count": 66,
   "id": "b5f71c79",
   "metadata": {},
   "outputs": [
    {
     "data": {
      "text/plain": [
       "'RfbvutRI'"
      ]
     },
     "execution_count": 66,
     "metadata": {},
     "output_type": "execute_result"
    }
   ],
   "source": [
    "playfair_solver('FalkonPS','freepalestine')"
   ]
  },
  {
   "cell_type": "code",
   "execution_count": 72,
   "id": "da227782",
   "metadata": {},
   "outputs": [
    {
     "data": {
      "text/plain": [
       "'rfbvutri'"
      ]
     },
     "execution_count": 72,
     "metadata": {},
     "output_type": "execute_result"
    }
   ],
   "source": [
    "playfair_solver('falkonps','Freepalestine')"
   ]
  },
  {
   "cell_type": "code",
   "execution_count": 73,
   "id": "11c1adc1",
   "metadata": {},
   "outputs": [
    {
     "data": {
      "text/plain": [
       "[('f', 'a'), ('l', 'k'), ('o', 'n'), ('p', 's')]"
      ]
     },
     "execution_count": 73,
     "metadata": {},
     "output_type": "execute_result"
    }
   ],
   "source": [
    "pairs_of_letters('falkonps')"
   ]
  },
  {
   "cell_type": "code",
   "execution_count": 74,
   "id": "56bd9491",
   "metadata": {},
   "outputs": [
    {
     "data": {
      "text/plain": [
       "[['f', 'r', 'e', 'p', 'a'],\n",
       " ['l', 's', 't', 'i', 'n'],\n",
       " ['b', 'c', 'd', 'g', 'h'],\n",
       " ['k', 'm', 'o', 'q', 'u'],\n",
       " ['v', 'w', 'x', 'y', 'z']]"
      ]
     },
     "execution_count": 74,
     "metadata": {},
     "output_type": "execute_result"
    }
   ],
   "source": [
    "playfiar_matrix('freepalestine')"
   ]
  },
  {
   "cell_type": "code",
   "execution_count": 75,
   "id": "2f1118e8",
   "metadata": {},
   "outputs": [
    {
     "data": {
      "text/plain": [
       "[('a', 'b'), ('c', 'd'), ('a', 'm'), ('m', 'x'), ('m', 'x')]"
      ]
     },
     "execution_count": 75,
     "metadata": {},
     "output_type": "execute_result"
    }
   ],
   "source": [
    "pairs_of_letters('abcdammm',separate_by='x')"
   ]
  },
  {
   "cell_type": "markdown",
   "id": "c836d7eb",
   "metadata": {},
   "source": [
    "# MY"
   ]
  },
  {
   "cell_type": "code",
   "execution_count": 77,
   "id": "709eb1e9",
   "metadata": {},
   "outputs": [
    {
     "name": "stdout",
     "output_type": "stream",
     "text": [
      "0:0\n",
      "1:1\n",
      "2:4\n",
      "3:9\n",
      "4:16\n",
      "5:25\n",
      "6:36\n",
      "7:49\n",
      "8:64\n",
      "9:81\n",
      "10:100\n",
      "11:121\n",
      "12:144\n",
      "13:169\n",
      "14:196\n",
      "15:225\n",
      "16:256\n"
     ]
    }
   ],
   "source": [
    "for i in range(17):\n",
    "    print(str(i)+':'+str(i*i))"
   ]
  },
  {
   "cell_type": "code",
   "execution_count": 78,
   "id": "13f7b869",
   "metadata": {},
   "outputs": [
    {
     "name": "stdout",
     "output_type": "stream",
     "text": [
      "\u0000 \u0001 \u0002 \u0003 \u0004 \u0005 \u0006 \u0007 \t \n",
      " \u000e \u000f \n",
      "\u0010 \u0011 \u0012 \u0013 \u0014 \u0015 \u0016 \u0017 \u0018 \u0019 \u001a \u001b \u001c \u001d \u001e \u001f \n",
      "  ! \" # $ % & ' ( ) * + , - . / \n",
      "0 1 2 3 4 5 6 7 8 9 : ; < = > ? \n",
      "@ A B C D E F G H I J K L M N O \n",
      "P Q R S T U V W X Y Z [ \\ ] ^ _ \n",
      "` a b c d e f g h i j k l m n o \n",
      "p q r s t u v w x y z { | } ~  \n",
      "                \n",
      "                \n",
      "  ¡ ¢ £ ¤ ¥ ¦ § ¨ © ª « ¬ ­ ® ¯ \n",
      "° ± ² ³ ´ µ ¶ · ¸ ¹ º » ¼ ½ ¾ ¿ \n",
      "À Á Â Ã Ä Å Æ Ç È É Ê Ë Ì Í Î Ï \n",
      "Ð Ñ Ò Ó Ô Õ Ö × Ø Ù Ú Û Ü Ý Þ ß \n",
      "à á â ã ä å æ ç è é ê ë ì í î ï \n",
      "ð ñ ò ó ô õ ö ÷ ø ù ú û ü ý þ ÿ "
     ]
    }
   ],
   "source": [
    "inner_matrix=[]\n",
    "matrix_return=[]\n",
    "for i in range(256):\n",
    "    if(i!=0 and i%16==0):\n",
    "        matrix_return.append(inner_matrix)\n",
    "        inner_matrix=[]\n",
    "        print('')\n",
    "    inner_matrix.append(chr(i))\n",
    "    print(chr(i),end=' ')\n",
    "    matrix_return.append(inner_matrix)"
   ]
  },
  {
   "cell_type": "code",
   "execution_count": 79,
   "id": "f1ff72cf",
   "metadata": {},
   "outputs": [],
   "source": [
    "def playfiar_alphabet_adder_256(cipher):\n",
    "    alphabetical_list=[]\n",
    "    for alpha in cipher:\n",
    "        if(alpha in alphabetical_list):\n",
    "            continue\n",
    "        alphabetical_list.append(alpha)\n",
    "    for alpha in range(256):\n",
    "        letter=chr(alpha)\n",
    "        if(letter in alphabetical_list):\n",
    "            continue\n",
    "        alphabetical_list.append(letter)\n",
    "    return alphabetical_list"
   ]
  },
  {
   "cell_type": "code",
   "execution_count": 80,
   "id": "9af42234",
   "metadata": {},
   "outputs": [],
   "source": [
    "def playfiar_matrix_256(key):\n",
    "    matrix_alphabet=playfiar_alphabet_adder_256(key)\n",
    "    matrix_return=[]\n",
    "    inner_matrix=[]\n",
    "    for i in range(len(matrix_alphabet)):\n",
    "#         print(matrix_alphabet[i],end=' ')\n",
    "        if(i!=0 and i%16==0):\n",
    "            matrix_return.append(inner_matrix)\n",
    "            inner_matrix=[]\n",
    "#             print('')\n",
    "        inner_matrix.append(matrix_alphabet[i])\n",
    "    print(len(matrix_alphabet))\n",
    "    matrix_return.append(inner_matrix)\n",
    "    return matrix_return"
   ]
  },
  {
   "cell_type": "code",
   "execution_count": 81,
   "id": "b47173f7",
   "metadata": {
    "scrolled": false
   },
   "outputs": [
    {
     "name": "stdout",
     "output_type": "stream",
     "text": [
      "256\n"
     ]
    }
   ],
   "source": [
    "playfiar_matrix_256('abcd ');"
   ]
  },
  {
   "cell_type": "code",
   "execution_count": 82,
   "id": "756ecbfb",
   "metadata": {},
   "outputs": [
    {
     "name": "stdout",
     "output_type": "stream",
     "text": [
      "256\n"
     ]
    },
    {
     "data": {
      "text/plain": [
       "[16, 16, 16, 16, 16, 16, 16, 16, 16, 16, 16, 16, 16, 16, 16, 16]"
      ]
     },
     "execution_count": 82,
     "metadata": {},
     "output_type": "execute_result"
    }
   ],
   "source": [
    "[len(x) for x in playfiar_matrix_256('')]"
   ]
  },
  {
   "cell_type": "code",
   "execution_count": 83,
   "id": "3606e096",
   "metadata": {},
   "outputs": [],
   "source": [
    "def playfiar_matrix_finder_256(letter_alpha,letter_beta,matrix):\n",
    "    out_base=(9999,9999)\n",
    "    index_alpha=out_base\n",
    "    index_beta=out_base\n",
    "    cip=\"\"\n",
    "    for k in range(len(matrix)):\n",
    "        for h in range(len(matrix)):\n",
    "            if(letter_alpha==matrix[k][h]):\n",
    "                # print(letter_alpha)\n",
    "                index_alpha=(k,h)\n",
    "            if(letter_beta==matrix[k][h]):\n",
    "                # print(letter_beta)\n",
    "                index_beta=(k,h)\n",
    "            if(index_alpha!=out_base and index_beta!=out_base):\n",
    "                # print(index_alpha)\n",
    "                # print(index_beta)\n",
    "                if(index_alpha[1]==index_beta[1]):\n",
    "                    # print('col')\n",
    "                    cip=cip+matrix[(index_alpha[0]+1)%16][index_alpha[1]%16]\n",
    "                    cip=cip+matrix[(index_beta[0]+1)%16][index_beta[1]%16] \n",
    "                elif(index_alpha[0]==index_beta[0]):\n",
    "                    # print('row')\n",
    "                    cip=cip+matrix[index_alpha[0]%16][(index_alpha[1]+1)%16]\n",
    "                    cip=cip+matrix[index_beta[0]%16][(index_beta[1]+1)%16]\n",
    "                elif(index_alpha[0]==index_beta[1] or index_alpha[1]==index_beta[0]):\n",
    "                    # print('rectangle or square')\n",
    "                    cip=cip+matrix[index_alpha[0]][(index_beta[1])]\n",
    "                    cip=cip+matrix[index_beta[0]][(index_alpha[1])]\n",
    "                else:\n",
    "                    # print('rectangle or square')\n",
    "                    cip=cip+matrix[index_alpha[0]][(index_beta[1])]\n",
    "                    cip=cip+matrix[index_beta[0]][(index_alpha[1])]\n",
    "                index_alpha=out_base\n",
    "                index_beta=out_base\n",
    "    return cip"
   ]
  },
  {
   "cell_type": "code",
   "execution_count": 84,
   "id": "afaf551c",
   "metadata": {},
   "outputs": [
    {
     "name": "stdout",
     "output_type": "stream",
     "text": [
      "256\n",
      "Gye]xqPu3~fo\u0014\u0000\u0016\u0000vu\u0000\u001eey\u0000\u0015sa(&\u0019Umoltf|~\u0016eyfq\u0014~Ss\u0000\u0016oqv(\n"
     ]
    }
   ],
   "source": [
    "def playfair_solver_256(planetext,key):\n",
    "    planetext_pairs=pairs_of_letters(planetext)\n",
    "    matrix=playfiar_matrix_256(key)\n",
    "    cip=\"\"\n",
    "    for letter_alpha,letter_beta in planetext_pairs:\n",
    "        cip=cip+playfiar_matrix_finder_256(letter_alpha,letter_beta,matrix) \n",
    "    return cip\n",
    "print(playfair_solver_256('Hardwork has a future pay off, Laziness pays off now.','Playfair.(Sample)'))"
   ]
  },
  {
   "cell_type": "code",
   "execution_count": 85,
   "id": "3cdd7218",
   "metadata": {},
   "outputs": [
    {
     "data": {
      "text/plain": [
       "[('p', '('),\n",
       " ('r', 'a'),\n",
       " ('y', 'f'),\n",
       " ('y', '.'),\n",
       " ('⇗', 'Y'),\n",
       " ('(', 'Y'),\n",
       " ('3', '1'),\n",
       " ('2', '3'),\n",
       " ('B', 'c'),\n",
       " ('p', 'y'),\n",
       " ('r', 'a'),\n",
       " ('p', '^'),\n",
       " ('z', 'a')]"
      ]
     },
     "execution_count": 85,
     "metadata": {},
     "output_type": "execute_result"
    }
   ],
   "source": [
    "pairs_of_letters('p(rayfy.⇗Y(Y3123Bcpyrap^za')"
   ]
  },
  {
   "cell_type": "code",
   "execution_count": 86,
   "id": "42aa4947",
   "metadata": {
    "scrolled": true
   },
   "outputs": [
    {
     "name": "stdout",
     "output_type": "stream",
     "text": [
      "256\n",
      "P l a y f i r . ( S m p e )   \u0000 \n",
      "\u0001 \u0002 \u0003 \u0004 \u0005 \u0006 \u0007 \t \n",
      " \u000e \u000f \u0010 \n",
      "\u0011 \u0012 \u0013 \u0014 \u0015 \u0016 \u0017 \u0018 \u0019 \u001a \u001b \u001c \u001d \u001e \u001f ! \n",
      "\" # $ % & ' * + , - / 0 1 2 3 4 \n",
      "5 6 7 8 9 : ; < = > ? @ A B C D \n",
      "E F G H I J K L M N O Q R T U V \n",
      "W X Y Z [ \\ ] ^ _ ` b c d g h j \n",
      "k n o q s t u v w x z { | } ~  \n",
      "                \n",
      "                \n",
      "  ¡ ¢ £ ¤ ¥ ¦ § ¨ © ª « ¬ ­ ® ¯ \n",
      "° ± ² ³ ´ µ ¶ · ¸ ¹ º » ¼ ½ ¾ ¿ \n",
      "À Á Â Ã Ä Å Æ Ç È É Ê Ë Ì Í Î Ï \n",
      "Ð Ñ Ò Ó Ô Õ Ö × Ø Ù Ú Û Ü Ý Þ ß \n",
      "à á â ã ä å æ ç è é ê ë ì í î ï \n",
      "ð ñ ò ó ô õ ö ÷ ø ù ú û ü ý þ ÿ \n"
     ]
    }
   ],
   "source": [
    "matrix=playfiar_matrix_256('Playfair.(Sample) ')\n",
    "matrix\n",
    "for i in range(16):\n",
    "    for j in range(16):\n",
    "        print(matrix[i][j],end=' ')\n",
    "    print('')"
   ]
  },
  {
   "cell_type": "markdown",
   "id": "c664e17f",
   "metadata": {},
   "source": [
    "# Vernam Cipher"
   ]
  },
  {
   "cell_type": "markdown",
   "id": "eb43212f",
   "metadata": {},
   "source": []
  },
  {
   "cell_type": "code",
   "execution_count": 87,
   "id": "a83c1b37",
   "metadata": {},
   "outputs": [
    {
     "data": {
      "text/plain": [
       "'0b11'"
      ]
     },
     "execution_count": 87,
     "metadata": {},
     "output_type": "execute_result"
    }
   ],
   "source": [
    "bin(ord('a')^ord('b'))"
   ]
  },
  {
   "cell_type": "code",
   "execution_count": 88,
   "id": "e0b78239",
   "metadata": {},
   "outputs": [],
   "source": [
    "def vernam_cipher(plaintext,key):\n",
    "    cipher=[]\n",
    "    for p,k in zip(plaintext,key):\n",
    "        cipher.append(bin(ord(p)^ord(k)))\n",
    "    return cipher"
   ]
  },
  {
   "cell_type": "code",
   "execution_count": 89,
   "id": "4fa93b0d",
   "metadata": {},
   "outputs": [],
   "source": [
    "list_bin=vernam_cipher('hello','pluto')"
   ]
  },
  {
   "cell_type": "code",
   "execution_count": 91,
   "id": "1f66430d",
   "metadata": {
    "scrolled": true
   },
   "outputs": [
    {
     "data": {
      "text/plain": [
       "'h'"
      ]
     },
     "execution_count": 91,
     "metadata": {},
     "output_type": "execute_result"
    }
   ],
   "source": [
    "chr(int('0b11000',2)^ord('p'))"
   ]
  },
  {
   "cell_type": "code",
   "execution_count": 92,
   "id": "d990ac42",
   "metadata": {},
   "outputs": [],
   "source": [
    "def vernam_cipher_de(cipher,key):\n",
    "    planetext=''\n",
    "    for c,k in zip(cipher,key):\n",
    "        planetext=planetext+chr(int(c,2)^ord(k))\n",
    "    return planetext"
   ]
  },
  {
   "cell_type": "code",
   "execution_count": 93,
   "id": "1c19f973",
   "metadata": {},
   "outputs": [
    {
     "data": {
      "text/plain": [
       "'hello'"
      ]
     },
     "execution_count": 93,
     "metadata": {},
     "output_type": "execute_result"
    }
   ],
   "source": [
    "vernam_cipher_de(list_bin,'pluto')"
   ]
  },
  {
   "cell_type": "markdown",
   "id": "9a666e75",
   "metadata": {},
   "source": [
    "## Rail fence"
   ]
  },
  {
   "cell_type": "code",
   "execution_count": 94,
   "id": "8bbabe93",
   "metadata": {},
   "outputs": [],
   "source": [
    "def rail_fence(planetext,depth=3):\n",
    "    rail=[]\n",
    "    for i in range(depth):\n",
    "        rail.append([])\n",
    "    pos=0\n",
    "    c=False\n",
    "    for i in planetext:\n",
    "        rail[pos].append(i)\n",
    "        if(c):\n",
    "            pos=pos-1\n",
    "        else:\n",
    "            pos=pos+1\n",
    "        if(pos>=depth-1):\n",
    "            c=True\n",
    "        elif(pos==0):\n",
    "            c=False\n",
    "    cipher=\"\"\n",
    "    for i in rail:\n",
    "        for j in i:\n",
    "            cipher=cipher+j\n",
    "    return cipher"
   ]
  },
  {
   "cell_type": "code",
   "execution_count": 95,
   "id": "b1cb0487",
   "metadata": {},
   "outputs": [
    {
     "data": {
      "text/plain": [
       "'sedeppemu'"
      ]
     },
     "execution_count": 95,
     "metadata": {},
     "output_type": "execute_result"
    }
   ],
   "source": [
    "rail_fence('speedmeup',2)"
   ]
  },
  {
   "cell_type": "code",
   "execution_count": 96,
   "id": "59c51094",
   "metadata": {},
   "outputs": [
    {
     "name": "stdout",
     "output_type": "stream",
     "text": [
      "sedeppemu\n",
      "sdppemuee\n",
      "sepmuedpe\n",
      "sppueeemd\n",
      "spepeudem\n",
      "speedpmue\n",
      "speedmepu\n",
      "speedmeup\n"
     ]
    }
   ],
   "source": [
    "for i in range(2,10):\n",
    "    print(rail_fence('speedmeup',i))"
   ]
  },
  {
   "cell_type": "code",
   "execution_count": 97,
   "id": "9051303c",
   "metadata": {},
   "outputs": [
    {
     "data": {
      "text/plain": [
       "'sdepemeup'"
      ]
     },
     "execution_count": 97,
     "metadata": {},
     "output_type": "execute_result"
    }
   ],
   "source": [
    "rail_fence('spuedmpee')"
   ]
  },
  {
   "cell_type": "code",
   "execution_count": 98,
   "id": "e60a6848",
   "metadata": {},
   "outputs": [
    {
     "data": {
      "text/plain": [
       "'0b11'"
      ]
     },
     "execution_count": 98,
     "metadata": {},
     "output_type": "execute_result"
    }
   ],
   "source": [
    "bin(int(bin(ord('a')),2)^int(bin(ord('b')),2))"
   ]
  },
  {
   "cell_type": "code",
   "execution_count": 99,
   "id": "f281ca8f",
   "metadata": {},
   "outputs": [
    {
     "data": {
      "text/plain": [
       "'FGHIJK'"
      ]
     },
     "execution_count": 99,
     "metadata": {},
     "output_type": "execute_result"
    }
   ],
   "source": [
    "caesar_cipheren_encipher('ABCDEF',5)"
   ]
  },
  {
   "cell_type": "code",
   "execution_count": 100,
   "id": "71340b21",
   "metadata": {},
   "outputs": [
    {
     "data": {
      "text/plain": [
       "'MOAMOHD'"
      ]
     },
     "execution_count": 100,
     "metadata": {},
     "output_type": "execute_result"
    }
   ],
   "source": [
    "rail_fence('MAHMOOD',3)"
   ]
  },
  {
   "cell_type": "code",
   "execution_count": 102,
   "id": "a5936733",
   "metadata": {},
   "outputs": [
    {
     "data": {
      "text/plain": [
       "36"
      ]
     },
     "execution_count": 102,
     "metadata": {},
     "output_type": "execute_result"
    }
   ],
   "source": [
    "len('E8KEcFzDhS0SZMKJEsK3w6bClkzDvWTCqsOQ')"
   ]
  },
  {
   "cell_type": "code",
   "execution_count": null,
   "id": "fec03abb",
   "metadata": {},
   "outputs": [],
   "source": []
  }
 ],
 "metadata": {
  "kernelspec": {
   "display_name": "Python 3 (ipykernel)",
   "language": "python",
   "name": "python3"
  },
  "language_info": {
   "codemirror_mode": {
    "name": "ipython",
    "version": 3
   },
   "file_extension": ".py",
   "mimetype": "text/x-python",
   "name": "python",
   "nbconvert_exporter": "python",
   "pygments_lexer": "ipython3",
   "version": "3.12.1"
  }
 },
 "nbformat": 4,
 "nbformat_minor": 5
}

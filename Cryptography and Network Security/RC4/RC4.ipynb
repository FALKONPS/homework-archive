{
 "cells": [
  {
   "cell_type": "markdown",
   "id": "ee572afe-ec8b-459c-b65e-9140e7e1e86d",
   "metadata": {},
   "source": [
    "# Pre-Defined "
   ]
  },
  {
   "cell_type": "code",
   "execution_count": 1,
   "id": "6c574c01-c14d-4fdb-9267-d61931b2201d",
   "metadata": {
    "tags": []
   },
   "outputs": [],
   "source": [
    "class Binary:\n",
    "    def __init__(self,value, bit=None):\n",
    "        if(value[:2]=='0b'):\n",
    "            value=value[2:]\n",
    "\n",
    "        if(type(value)!=str):\n",
    "            raise TypeError(f\"TypeError: value \\'{value}\\' {type(value)} not string\")\n",
    "        for i in value:\n",
    "            if(i) not in ['1','0']:\n",
    "                raise ValueError(f\"ValueError: value \\'{value}\\' not in '0' and '1'\")        \n",
    "        self.__value =value\n",
    "        if(bit is None):\n",
    "            self.__bit=len(value)\n",
    "        elif(type(bit) is not int):\n",
    "            raise ValueError(f\"ValueError: value \\'{bit}\\' not in integer\") \n",
    "        else:\n",
    "            self.__bit =bit\n",
    "            \n",
    "        Binary.__adder_bit(self)\n",
    "\n",
    "    def bit(self):\n",
    "        return self.__bit\n",
    "    \n",
    "    def __str__(self):\n",
    "        return str(self.__value)\n",
    "    \n",
    "    def __repr__(self):\n",
    "        return str(self.__value)\n",
    "    def __len__(self):\n",
    "        return self.__bit \n",
    "    def circular_shift_left(self,in_place=False):\n",
    "        lsit_binary=list(self.__value)\n",
    "        lsit_binary.insert(len(lsit_binary),lsit_binary[0])\n",
    "        lsit_binary.remove(lsit_binary[0])\n",
    "        binary=\"\"\n",
    "        for i in lsit_binary:\n",
    "            binary=binary+i\n",
    "        if(in_place):\n",
    "            self.__value=binary\n",
    "        return binary\n",
    "                \n",
    "          \n",
    "    def circular_shift_right(self,in_place=False):\n",
    "        lsit_binary=list(self.__value)\n",
    "        lsit_binary.insert(0,lsit_binary[len(lsit_binary)-1])\n",
    "        lsit_binary=lsit_binary[:-1]\n",
    "        binary=\"\"\n",
    "        for i in lsit_binary:\n",
    "            binary=binary+i\n",
    "        if(in_place):\n",
    "            self.__value=binary\n",
    "        return binary\n",
    "\n",
    "    def invert(self,in_place=False):\n",
    "        value_invert=self.__value\n",
    "        value_invert=value_invert.replace('0','#')\n",
    "        value_invert=value_invert.replace('1','0')\n",
    "        value_invert=value_invert.replace('#','1')\n",
    "        if(in_place):\n",
    "            self.__value=value_invert\n",
    "        return value_invert\n",
    "    def update_bit(self,bit):\n",
    "        self.__bit =bit\n",
    "        __adder_bit()\n",
    "        \n",
    "    def update_value(self,value,bit=None):\n",
    "        self.__value=value\n",
    "        if(bit is None):\n",
    "            self.__bit=len(value)\n",
    "        else:\n",
    "            self.__bit =bit\n",
    "        __adder_bit()\n",
    "\n",
    "    def to_bin(self):\n",
    "        return '0b' +self.__value\n",
    "    \n",
    "    def to_int(self):\n",
    "        return int(self.to_bin(),2)\n",
    "    \n",
    "    def xor(self,b):\n",
    "        if(b[:2].lower()=='0b'):\n",
    "            b=b[2:]\n",
    "        a=self.__value\n",
    "        if(len(b)>len(a)):\n",
    "            for i in range(len(b)-len(a)):\n",
    "                a='0'+a\n",
    "        elif(len(a)>len(b)):\n",
    "            for i in range(len(a)-len(b)):\n",
    "                b='0'+b\n",
    "            \n",
    "        b=b[::-1]\n",
    "        a=a[::-1]\n",
    "        \n",
    "        c=''\n",
    "        for i,j in zip(a,b):\n",
    "            if(i=='1' and j=='1' or i=='0' and j=='0'):\n",
    "                c='0'+c\n",
    "            else:\n",
    "                c='1'+c\n",
    "        return c\n",
    "    def __adder_bit(self):\n",
    "        len_value=len(self.__value)\n",
    "        if(self.bit()>len_value):\n",
    "            for i in range(self.bit()-len_value):\n",
    "                self.__value='0'+self.__value\n",
    "    \n",
    "\n"
   ]
  },
  {
   "cell_type": "code",
   "execution_count": 2,
   "id": "377ec87b-7b78-4cbe-87fb-2d514a224ec5",
   "metadata": {},
   "outputs": [],
   "source": [
    "def to_binary(text):\n",
    "    binary_=''\n",
    "    for i in text:\n",
    "        binary_=binary_+Binary(bin(ord(i))[2:],8).to_bin()[2:]\n",
    "    return binary_"
   ]
  },
  {
   "cell_type": "code",
   "execution_count": 3,
   "id": "40ccdbd2-60ce-4dbc-ab3a-2904908f1b82",
   "metadata": {},
   "outputs": [],
   "source": [
    "def to_text(binary_,char_size=8):\n",
    "    i=1\n",
    "    binary_=binary_[::-1]\n",
    "    block=''\n",
    "    full_text=''\n",
    "    block=''\n",
    "    while(i<len(binary_)):\n",
    "        block=block+binary_[i-1]\n",
    "        if(i+1==len(binary_)):\n",
    "            block=block+binary_[i]\n",
    "        if(i%(char_size)==0 or i+1==len(binary_)):\n",
    "            block=block[::-1]\n",
    "            full_text=chr(int(block,2))+full_text\n",
    "            block=''\n",
    "        i=i+1\n",
    "    return full_text"
   ]
  },
  {
   "cell_type": "code",
   "execution_count": 4,
   "id": "2adc6527-29c5-4f47-a120-eef0a8f25291",
   "metadata": {},
   "outputs": [],
   "source": [
    "def byte_to_hex(binary_):\n",
    "    size=len(binary_)\n",
    "    hex_=''\n",
    "    binary_=binary_[::-1]\n",
    "    oneta=binary_[:4]\n",
    "    oneta=oneta[::-1]\n",
    "    hex_=hex_+str(hex(int(oneta,2)))[2:]\n",
    "    \n",
    "    if(size>4):\n",
    "        oneta=binary_[4:]\n",
    "        oneta=oneta[::-1]\n",
    "        hex_=str(hex(int(oneta,2)))[2:]+hex_\n",
    "\n",
    "    return hex_.upper()"
   ]
  },
  {
   "cell_type": "markdown",
   "id": "7796187c-62f8-4ddf-91a1-ec6c80d4f871",
   "metadata": {
    "tags": []
   },
   "source": [
    "# RC4"
   ]
  },
  {
   "cell_type": "markdown",
   "id": "245cee70-7209-4e5f-808f-0423a5f1be45",
   "metadata": {},
   "source": [
    "## STREAM CIPHERS\n",
    "- A typical stream cipher encrypts plaintext \n",
    "one byte at a time, although a stream cipher \n",
    "may be designed to operate on one bit at a \n",
    "time or on units larger than a byte at a time. \n",
    "\n",
    "- The output of the generator, called a keystream, is \n",
    "combined one byte at a time with the plaintext stream \n",
    "using the bitwise exclusive-OR (XOR) operation"
   ]
  },
  {
   "cell_type": "markdown",
   "id": "724bc440-6664-43bf-8da1-3170c26d318a",
   "metadata": {},
   "source": [
    "# Pseudo-Random"
   ]
  },
  {
   "cell_type": "code",
   "execution_count": 5,
   "id": "eb2829ac-5827-4f36-b481-1f7bc73e4ffe",
   "metadata": {},
   "outputs": [],
   "source": [
    "def generator(seed,length=10):\n",
    "    import random\n",
    "    random.seed(seed)\n",
    "    keystream=''\n",
    "    for i in range(length):\n",
    "        keystream=keystream+str(random.randint(0,1))\n",
    "    return keystream\n"
   ]
  },
  {
   "cell_type": "code",
   "execution_count": 6,
   "id": "0ed24ad8-b525-4254-b291-a9afe68e668a",
   "metadata": {},
   "outputs": [
    {
     "data": {
      "text/plain": [
       "'11101101'"
      ]
     },
     "execution_count": 6,
     "metadata": {},
     "output_type": "execute_result"
    }
   ],
   "source": [
    "generator(75,8)"
   ]
  },
  {
   "cell_type": "code",
   "execution_count": 7,
   "id": "61c3fa58-caea-4bfe-a994-e277ce9c6bf9",
   "metadata": {},
   "outputs": [
    {
     "name": "stdout",
     "output_type": "stream",
     "text": [
      "111\n",
      "281\n",
      "326\n",
      "435\n",
      "560\n",
      "944\n"
     ]
    }
   ],
   "source": [
    "for i in range(1000):\n",
    "    if(generator(i,8)=='01101100'):\n",
    "        print(i)"
   ]
  },
  {
   "cell_type": "markdown",
   "id": "6e3eaa8a-332f-46f0-a3c0-e30ac643ca87",
   "metadata": {},
   "source": [
    "- The output of the generator, called a keystream, is \n",
    "combined one byte at a time with the plaintext stream \n",
    "using the bitwise exclusive-OR (XOR) operation.\n",
    "- For example, if the next byte generated by the generator \n",
    "is 01101100 and the next plaintext byte is 11001100, \n",
    "then the resulting ciphertext byte is"
   ]
  },
  {
   "cell_type": "code",
   "execution_count": 8,
   "id": "27fdf0a0-744e-4ce4-a805-0acc3ab6fa4b",
   "metadata": {},
   "outputs": [
    {
     "name": "stdout",
     "output_type": "stream",
     "text": [
      "10100000\n"
     ]
    }
   ],
   "source": [
    "plaintext=Binary('11001100')\n",
    "keystream=generator(111,8)\n",
    "chipertext=plaintext.xor(keystream)\n",
    "print(chipertext)"
   ]
  },
  {
   "cell_type": "code",
   "execution_count": 9,
   "id": "7963b48d-1924-44dc-a898-03ee96f739ea",
   "metadata": {},
   "outputs": [
    {
     "name": "stdout",
     "output_type": "stream",
     "text": [
      "11001100\n"
     ]
    }
   ],
   "source": [
    "print(Binary(chipertext).xor(keystream))"
   ]
  },
  {
   "cell_type": "markdown",
   "id": "bf0cdaa6-af62-47a1-917a-394616315b93",
   "metadata": {},
   "source": [
    "- The encryption sequence should have a \n",
    "large period. A pseudorandom number \n",
    "generator uses a function that produces a \n",
    "deterministic stream of bits that eventually \n",
    "repeats. The longer the period of repeat \n",
    "the more difficult it will be to do \n",
    "cryptanalysis"
   ]
  },
  {
   "cell_type": "markdown",
   "id": "b9eec4fa-2487-4e5c-b750-f66b2da256d4",
   "metadata": {},
   "source": [
    "## RC4"
   ]
  },
  {
   "cell_type": "markdown",
   "id": "4e6a62a0-8ae2-429a-9b18-367b8deaeb49",
   "metadata": {},
   "source": [
    "- A variable-length key of from 1 to 256 bytes\n",
    "-is used to initialize a 256-byte state \n",
    "vector (Array) S, with elements \n",
    "<BR>\n",
    "$S(0)=0,S(1)=1,S(2)=2,...,S(255)=255$"
   ]
  },
  {
   "cell_type": "markdown",
   "id": "49b24581-f3f5-4c30-b3e5-fbda904d8a16",
   "metadata": {},
   "source": [
    "### Initialization of S\n"
   ]
  },
  {
   "cell_type": "code",
   "execution_count": 10,
   "id": "1a440229-3c43-4cd0-8a7b-fea6fa119871",
   "metadata": {},
   "outputs": [],
   "source": [
    "S=[]\n",
    "for i in range(256):\n",
    "    S.append(i)"
   ]
  },
  {
   "cell_type": "code",
   "execution_count": 11,
   "id": "e4291033-37f6-4a3c-aa61-727074feb225",
   "metadata": {},
   "outputs": [
    {
     "data": {
      "text/plain": [
       "(0, 255)"
      ]
     },
     "execution_count": 11,
     "metadata": {},
     "output_type": "execute_result"
    }
   ],
   "source": [
    "S[0],S[255]"
   ]
  },
  {
   "cell_type": "code",
   "execution_count": 12,
   "id": "f238ad77-c2b6-405d-93dd-ac8b56cd41c3",
   "metadata": {},
   "outputs": [
    {
     "data": {
      "text/plain": [
       "('helloWorld', 10)"
      ]
     },
     "execution_count": 12,
     "metadata": {},
     "output_type": "execute_result"
    }
   ],
   "source": [
    "key='helloWorld'\n",
    "key,len(key)"
   ]
  },
  {
   "cell_type": "markdown",
   "id": "aa2be019-16bc-4881-8d38-3d18dfe66861",
   "metadata": {},
   "source": [
    "- T integer if letter convert to Ascii\n",
    "- A temporary vector, T, is also created. \n",
    "- If the length of the key K is 256 bytes, then \n",
    "K is transferred to T.\n",
    "- Otherwise, for a key of length keylen\n",
    "bytes, the first keylen elements of T are \n",
    "copied from K, and then K is repeated as \n",
    "many times as necessary to fill out T. \n"
   ]
  },
  {
   "cell_type": "markdown",
   "id": "0ef599bd-36e1-4555-b880-7b9e67084597",
   "metadata": {},
   "source": [
    "### Initialization of T"
   ]
  },
  {
   "cell_type": "code",
   "execution_count": 13,
   "id": "31e841a8-9dad-4d20-82ff-97f477f08039",
   "metadata": {},
   "outputs": [
    {
     "data": {
      "text/plain": [
       "2048"
      ]
     },
     "execution_count": 13,
     "metadata": {},
     "output_type": "execute_result"
    }
   ],
   "source": [
    "T=[]\n",
    "for i in range(256):\n",
    "    T.append(ord(key[i%len(key)]))\n",
    "    \n",
    "len(T)*8"
   ]
  },
  {
   "cell_type": "markdown",
   "id": "498f1c5f-7f3d-42e8-8618-9051456af1dc",
   "metadata": {},
   "source": [
    "### initial permutation of S"
   ]
  },
  {
   "cell_type": "code",
   "execution_count": 14,
   "id": "b56cfd03-9c4e-4fd7-a823-5b4edd1cbdd7",
   "metadata": {},
   "outputs": [],
   "source": [
    "j=0\n",
    "for i in range(256):#(0,255)\n",
    "    j=(j+S[i]+T[i])%256\n",
    "    # swap\n",
    "    temp=S[j]\n",
    "    S[j]=S[i]\n",
    "    S[i]=temp\n",
    "    "
   ]
  },
  {
   "cell_type": "code",
   "execution_count": 15,
   "id": "8473590a-ebf4-4ae4-b5da-155b9ed71dee",
   "metadata": {},
   "outputs": [],
   "source": [
    "j=0\n",
    "for i in range(256):\n",
    "    j=(j+S[i]+T[i])%256\n",
    "    # swap\n",
    "    temp=S[j]\n",
    "    S[j]=S[i]\n",
    "    S[i]=temp"
   ]
  },
  {
   "cell_type": "markdown",
   "id": "c37f6f70-78a6-42a8-bfbf-56d3483a1d9c",
   "metadata": {},
   "source": [
    "# Stream Generation"
   ]
  },
  {
   "cell_type": "markdown",
   "id": "38b47ac6-e1b3-4f44-b71c-b08b2909c362",
   "metadata": {},
   "source": [
    "- Once the S vector is initialized, the input key is no longer \n",
    "used."
   ]
  },
  {
   "cell_type": "code",
   "execution_count": 16,
   "id": "f71c02a9-cb12-4400-9575-1d2595635222",
   "metadata": {},
   "outputs": [],
   "source": [
    "plaintext='hello'"
   ]
  },
  {
   "cell_type": "code",
   "execution_count": 17,
   "id": "0fe25686-5b50-487d-894d-206965224f23",
   "metadata": {},
   "outputs": [],
   "source": [
    "S=[]\n",
    "T=[]\n",
    "\n",
    "for i in range(256):\n",
    "    S.append(i)\n",
    "    T.append(ord(key[i%len(key)]))\n",
    "j=0\n",
    "for i in range(256):\n",
    "    j=(j+S[i]+T[i])%256\n",
    "    # swap\n",
    "    temp=S[j]\n",
    "    S[j]=S[i]\n",
    "    S[i]=temp\n",
    "    "
   ]
  },
  {
   "cell_type": "code",
   "execution_count": 18,
   "id": "002c7f1c-b29d-456e-a434-733b6861c75b",
   "metadata": {},
   "outputs": [
    {
     "name": "stdout",
     "output_type": "stream",
     "text": [
      "\u00157OJ"
     ]
    }
   ],
   "source": [
    "\n",
    "i=0\n",
    "j=0\n",
    "for p in plaintext:\n",
    "    i=(i+1)%256\n",
    "    j=(j+S[i])%256\n",
    "    # swap\n",
    "    temp=S[j]\n",
    "    S[j]=S[i]\n",
    "    S[i]=temp\n",
    "    t=(S[i]+S[j])%256\n",
    "    k=S[t]\n",
    "    print(to_text(Binary(bin(k)[2:],8).xor(Binary(bin(ord(p))[2:],8).to_bin()[2:])),end='')\n"
   ]
  },
  {
   "cell_type": "code",
   "execution_count": 19,
   "id": "e7067b19-2a1e-4b20-b606-ac54b561b1d8",
   "metadata": {},
   "outputs": [
    {
     "name": "stdout",
     "output_type": "stream",
     "text": [
      "iá£"
     ]
    }
   ],
   "source": [
    "i=0\n",
    "j=0\n",
    "plaintext='wup'\n",
    "for p in plaintext:\n",
    "    i=(i+1)%256\n",
    "    j=(j+S[i])%256\n",
    "    # swap\n",
    "    temp=S[j]\n",
    "    S[j]=S[i]\n",
    "    S[i]=temp\n",
    "    t=(S[i]+S[j])%256\n",
    "    k=S[t]\n",
    "    print(to_text(Binary(bin(k)[2:],8).xor(Binary(bin(ord(p))[2:],8).to_bin()[2:])),end='')\n"
   ]
  },
  {
   "cell_type": "code",
   "execution_count": 20,
   "id": "0083abcd-a8c0-45cb-b49c-b096d7428eda",
   "metadata": {},
   "outputs": [
    {
     "name": "stdout",
     "output_type": "stream",
     "text": [
      "119 111 114 108 100 "
     ]
    }
   ],
   "source": [
    "for i in 'world':\n",
    "    print(ord(i),end=' ')"
   ]
  },
  {
   "cell_type": "code",
   "execution_count": 21,
   "id": "6710c9eb-02ff-4899-8cb6-f574220dc2b2",
   "metadata": {},
   "outputs": [],
   "source": [
    "plaintext='Hello'"
   ]
  },
  {
   "cell_type": "code",
   "execution_count": 22,
   "id": "a471fcef-f167-427a-b327-47d833ae0ce4",
   "metadata": {},
   "outputs": [],
   "source": [
    "key='world'"
   ]
  },
  {
   "cell_type": "code",
   "execution_count": 23,
   "id": "68d99a19-ba2a-4048-bb4f-a59e6168e7f7",
   "metadata": {},
   "outputs": [
    {
     "name": "stdout",
     "output_type": "stream",
     "text": [
      "119 111 114 108 100 "
     ]
    }
   ],
   "source": [
    "for i in key:\n",
    "    print(ord(i),end=' ')"
   ]
  },
  {
   "cell_type": "markdown",
   "id": "c74412f3",
   "metadata": {},
   "source": [
    "\n",
    "\n",
    "\n",
    "Write the necessary code to implement the encryption and decryption parts of RC4 algorithms taking into account:\n",
    "\n",
    "1- The size of S array is 256.\n",
    "\n",
    "2- The user enters the key of any size less than 256.\n",
    "\n",
    "3- The user enters the plaintext to be encrypted.\n",
    "\n"
   ]
  },
  {
   "cell_type": "code",
   "execution_count": 24,
   "id": "cf3968eb-5936-4d5e-b732-588f53c470cc",
   "metadata": {},
   "outputs": [],
   "source": [
    "def initial(seed):\n",
    "    S=[]\n",
    "    T=[]\n",
    "    for i in range(256):\n",
    "        S.append(i)\n",
    "        T.append(ord(seed[i%len(seed)]))\n",
    "    return (S,T)\n"
   ]
  },
  {
   "cell_type": "code",
   "execution_count": 25,
   "id": "5f771f5e",
   "metadata": {},
   "outputs": [],
   "source": [
    "def RC4(plaintext,key):\n",
    "    if(len(key)>=256):\n",
    "        return 'key length exceeds 2048 bit '\n",
    "    # initial permutation of S\n",
    "    ciphertext=''\n",
    "    S,T=initial(key)\n",
    "    j=0\n",
    "    for i in range(256):\n",
    "        j=(j+S[i]+T[i])%256\n",
    "        \n",
    "        # swap\n",
    "        temp=S[j]\n",
    "        S[j]=S[i]\n",
    "        S[i]=temp\n",
    "    i=0\n",
    "    j=0\n",
    "    for p in plaintext:\n",
    "        i=(i+1)%256\n",
    "        j=(j+S[i])%256\n",
    "        # swap\n",
    "        temp=S[j]\n",
    "        S[j]=S[i]\n",
    "        S[i]=temp\n",
    "        # swap\n",
    "        t=(S[i]+S[j])%256\n",
    "        k=S[t]\n",
    "        \n",
    "        ciphertext=ciphertext+to_text(Binary(bin(k)[2:],8).xor(Binary(bin(ord(p))[2:],8).to_bin()[2:]))\n",
    "    return ciphertext\n",
    "    "
   ]
  },
  {
   "cell_type": "markdown",
   "id": "752fd275-7b1f-4a5e-a815-20eecff806b4",
   "metadata": {},
   "source": [
    "## example"
   ]
  },
  {
   "cell_type": "code",
   "execution_count": 26,
   "id": "3e83c7a1-4bd0-4432-b240-acaa89bd1db2",
   "metadata": {},
   "outputs": [
    {
     "data": {
      "text/plain": [
       "'n\\x9eð½ë'"
      ]
     },
     "execution_count": 26,
     "metadata": {},
     "output_type": "execute_result"
    }
   ],
   "source": [
    "RC4('Hello','Hsslajdfsslaq!#^9@^%!@#!@$#@%!#$%^&*(^%$#@%^&oiwq!@#$@#%$#^%@#%$#^#@^%!@#!@$#@%!#$%^&*(^%$#@%^&adssssslajdfoiwq!@#$@#%$#^%@#%$#^#@^%!@#!@$#@%!#$%^&*(^%$#@%^&^*%&^%$@!#!@$#@%%&#%@$#!^$%^@$@4qveev!@#!#qwefvqwvfewfvqvfqwefvasdcacderhmcqwedopiqwhpcdqwnpcdmqw1')"
   ]
  },
  {
   "cell_type": "code",
   "execution_count": 27,
   "id": "5729eaf2-7cb3-45b3-975d-779d74556984",
   "metadata": {},
   "outputs": [
    {
     "data": {
      "text/plain": [
       "'Hello'"
      ]
     },
     "execution_count": 27,
     "metadata": {},
     "output_type": "execute_result"
    }
   ],
   "source": [
    "RC4('n\\x9eð½ë','Hsslajdfsslaq!#^9@^%!@#!@$#@%!#$%^&*(^%$#@%^&oiwq!@#$@#%$#^%@#%$#^#@^%!@#!@$#@%!#$%^&*(^%$#@%^&adssssslajdfoiwq!@#$@#%$#^%@#%$#^#@^%!@#!@$#@%!#$%^&*(^%$#@%^&^*%&^%$@!#!@$#@%%&#%@$#!^$%^@$@4qveev!@#!#qwefvqwvfewfvqvfqwefvasdcacderhmcqwedopiqwhpcdqwnpcdmqw1')"
   ]
  },
  {
   "cell_type": "markdown",
   "id": "47d6219c-ca16-4230-beb2-6590d8fb3cfa",
   "metadata": {},
   "source": [
    "## example\n"
   ]
  },
  {
   "cell_type": "code",
   "execution_count": 34,
   "id": "8b62ab16-1ab9-46e6-a477-2d1bf67cc9ff",
   "metadata": {},
   "outputs": [],
   "source": [
    "a=RC4('falkon.ps','is the best :)')"
   ]
  },
  {
   "cell_type": "code",
   "execution_count": 35,
   "id": "dec369d3-5d71-491b-b82d-5740dd481289",
   "metadata": {},
   "outputs": [
    {
     "data": {
      "text/plain": [
       "'falkon.ps'"
      ]
     },
     "execution_count": 35,
     "metadata": {},
     "output_type": "execute_result"
    }
   ],
   "source": [
    "RC4(a,'is the best :)')"
   ]
  },
  {
   "cell_type": "code",
   "execution_count": 36,
   "id": "8872e530",
   "metadata": {},
   "outputs": [],
   "source": [
    "from ipywidgets import interact\n",
    "import ipywidgets as widgets\n",
    "from IPython.display import display"
   ]
  },
  {
   "cell_type": "code",
   "execution_count": 37,
   "id": "06a2407b",
   "metadata": {},
   "outputs": [],
   "source": [
    "KEY=widgets.Text(\n",
    "    value='',\n",
    "    placeholder='Key',\n",
    "    disabled=False\n",
    ")\n",
    "P=widgets.Textarea(\n",
    "    value='',\n",
    "    placeholder='Plaintext',\n",
    "    disabled=False\n",
    ")\n",
    "OUT=widgets.Textarea(\n",
    "    value='',\n",
    "    placeholder='Output',\n",
    "    disabled=False\n",
    ")"
   ]
  },
  {
   "cell_type": "code",
   "execution_count": 38,
   "id": "27fe4afe",
   "metadata": {
    "scrolled": true
   },
   "outputs": [
    {
     "data": {
      "application/vnd.jupyter.widget-view+json": {
       "model_id": "3cbc6410a8d34489be23140d524f5fd4",
       "version_major": 2,
       "version_minor": 0
      },
      "text/plain": [
       "Text(value='', placeholder='Key')"
      ]
     },
     "metadata": {},
     "output_type": "display_data"
    },
    {
     "data": {
      "application/vnd.jupyter.widget-view+json": {
       "model_id": "06a9d58951ba4f5c89b8c817e7b808ed",
       "version_major": 2,
       "version_minor": 0
      },
      "text/plain": [
       "Textarea(value='', placeholder='Plaintext')"
      ]
     },
     "metadata": {},
     "output_type": "display_data"
    },
    {
     "data": {
      "application/vnd.jupyter.widget-view+json": {
       "model_id": "56f04c9c0ebe432887421866a0a5ddcc",
       "version_major": 2,
       "version_minor": 0
      },
      "text/plain": [
       "Textarea(value='', placeholder='Output')"
      ]
     },
     "metadata": {},
     "output_type": "display_data"
    },
    {
     "data": {
      "application/vnd.jupyter.widget-view+json": {
       "model_id": "dd9fea8c73394ce1b58229b1c4fb72cd",
       "version_major": 2,
       "version_minor": 0
      },
      "text/plain": [
       "Button(description='copy', style=ButtonStyle())"
      ]
     },
     "metadata": {},
     "output_type": "display_data"
    },
    {
     "data": {
      "application/vnd.jupyter.widget-view+json": {
       "model_id": "6be4d2480a574049b83f2020e41f406d",
       "version_major": 2,
       "version_minor": 0
      },
      "text/plain": [
       "Button(description='Run', style=ButtonStyle())"
      ]
     },
     "metadata": {},
     "output_type": "display_data"
    }
   ],
   "source": [
    "display(KEY)\n",
    "display(P)\n",
    "display(OUT)\n",
    "\n",
    "button_run = widgets.Button(description=\"Run\")\n",
    "button_copy = widgets.Button(description=\"copy\")\n",
    "\n",
    "output = widgets.Output()\n",
    "\n",
    "\n",
    "display(button_copy)\n",
    "display(button_run)\n",
    "\n",
    "def on_button_clicked(b):\n",
    "    with output:\n",
    "        OUT.value=RC4(plaintext=P.value,key=KEY.value)\n",
    "        # C.value=P.value\n",
    "        # P.value=OUT.value\n",
    "        print(\"Run.\")\n",
    "def on_button_clicked_copy(b):\n",
    "    with output:\n",
    "        P.value=OUT.value\n",
    "        print(\"copy.\")\n",
    "\n",
    "button_run.on_click(on_button_clicked)\n",
    "button_copy.on_click(on_button_clicked_copy)\n"
   ]
  },
  {
   "cell_type": "code",
   "execution_count": null,
   "id": "ecfd506a",
   "metadata": {},
   "outputs": [],
   "source": []
  }
 ],
 "metadata": {
  "kernelspec": {
   "display_name": "Python 3 (ipykernel)",
   "language": "python",
   "name": "python3"
  },
  "language_info": {
   "codemirror_mode": {
    "name": "ipython",
    "version": 3
   },
   "file_extension": ".py",
   "mimetype": "text/x-python",
   "name": "python",
   "nbconvert_exporter": "python",
   "pygments_lexer": "ipython3",
   "version": "3.12.1"
  }
 },
 "nbformat": 4,
 "nbformat_minor": 5
}

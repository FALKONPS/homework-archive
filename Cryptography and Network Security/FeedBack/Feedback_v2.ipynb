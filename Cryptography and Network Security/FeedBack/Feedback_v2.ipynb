{
 "cells": [
  {
   "cell_type": "markdown",
   "id": "159906fc-24d8-4bbf-947e-75775f116a3d",
   "metadata": {},
   "source": [
    "# Pre-Defined "
   ]
  },
  {
   "cell_type": "code",
   "execution_count": 1,
   "id": "52b11de8-df97-4dc0-bac0-2046f150c5a7",
   "metadata": {},
   "outputs": [],
   "source": [
    "class Binary:\n",
    "    def __init__(self,value, bit=None):\n",
    "        if(value[:2]=='0b'):\n",
    "            value=value[2:]\n",
    "\n",
    "        if(type(value)!=str):\n",
    "            raise TypeError(f\"TypeError: value \\'{value}\\' {type(value)} not string\")\n",
    "        for i in value:\n",
    "            if(i) not in ['1','0']:\n",
    "                raise ValueError(f\"ValueError: value \\'{value}\\' not in '0' and '1'\")        \n",
    "        self.__value =value\n",
    "        if(bit is None):\n",
    "            self.__bit=len(value)\n",
    "        elif(type(bit) is not int):\n",
    "            raise ValueError(f\"ValueError: value \\'{bit}\\' not in integer\") \n",
    "        else:\n",
    "            self.__bit =bit\n",
    "            \n",
    "        Binary.__adder_bit(self)\n",
    "\n",
    "    def bit(self):\n",
    "        return self.__bit\n",
    "    \n",
    "    def __str__(self):\n",
    "        return str(self.__value)\n",
    "    \n",
    "    def __repr__(self):\n",
    "        return str(self.__value)\n",
    "    def __len__(self):\n",
    "        return self.__bit \n",
    "    def circular_shift_left(self,in_place=False):\n",
    "        lsit_binary=list(self.__value)\n",
    "        lsit_binary.insert(len(lsit_binary),lsit_binary[0])\n",
    "        lsit_binary.remove(lsit_binary[0])\n",
    "        binary=\"\"\n",
    "        for i in lsit_binary:\n",
    "            binary=binary+i\n",
    "        if(in_place):\n",
    "            self.__value=binary\n",
    "        return binary\n",
    "                \n",
    "          \n",
    "    def circular_shift_right(self,in_place=False):\n",
    "        lsit_binary=list(self.__value)\n",
    "        lsit_binary.insert(0,lsit_binary[len(lsit_binary)-1])\n",
    "        lsit_binary=lsit_binary[:-1]\n",
    "        binary=\"\"\n",
    "        for i in lsit_binary:\n",
    "            binary=binary+i\n",
    "        if(in_place):\n",
    "            self.__value=binary\n",
    "        return binary\n",
    "\n",
    "    def invert(self,in_place=False):\n",
    "        value_invert=self.__value\n",
    "        value_invert=value_invert.replace('0','#')\n",
    "        value_invert=value_invert.replace('1','0')\n",
    "        value_invert=value_invert.replace('#','1')\n",
    "        if(in_place):\n",
    "            self.__value=value_invert\n",
    "        return value_invert\n",
    "    def update_bit(self,bit):\n",
    "        self.__bit =bit\n",
    "        __adder_bit()\n",
    "        \n",
    "    def update_value(self,value,bit=None):\n",
    "        self.__value=value\n",
    "        if(bit is None):\n",
    "            self.__bit=len(value)\n",
    "        else:\n",
    "            self.__bit =bit\n",
    "        __adder_bit()\n",
    "\n",
    "    def to_bin(self):\n",
    "        return '0b' +self.__value\n",
    "    \n",
    "    def to_int(self):\n",
    "        return int(self.to_bin(),2)\n",
    "    \n",
    "    def xor(self,b):\n",
    "        if(b[:2].lower()=='0b'):\n",
    "            b=b[2:]\n",
    "        a=self.__value\n",
    "        if(len(b)>len(a)):\n",
    "            for i in range(len(b)-len(a)):\n",
    "                a='0'+a\n",
    "        elif(len(a)>len(b)):\n",
    "            for i in range(len(a)-len(b)):\n",
    "                b='0'+b\n",
    "            \n",
    "        b=b[::-1]\n",
    "        a=a[::-1]\n",
    "        \n",
    "        c=''\n",
    "        for i,j in zip(a,b):\n",
    "            if(i=='1' and j=='1' or i=='0' and j=='0'):\n",
    "                c='0'+c\n",
    "            else:\n",
    "                c='1'+c\n",
    "        return c\n",
    "    def __adder_bit(self):\n",
    "        len_value=len(self.__value)\n",
    "        if(self.bit()>len_value):\n",
    "            for i in range(self.bit()-len_value):\n",
    "                self.__value='0'+self.__value\n",
    "    \n",
    "\n"
   ]
  },
  {
   "cell_type": "code",
   "execution_count": 2,
   "id": "4cf901b6-b406-4116-b69a-bb84af67c185",
   "metadata": {},
   "outputs": [],
   "source": [
    "def to_binary(text):\n",
    "    binary_=''\n",
    "    for i in text:\n",
    "        binary_=binary_+Binary(bin(ord(i))[2:],8).to_bin()[2:]\n",
    "    return binary_"
   ]
  },
  {
   "cell_type": "code",
   "execution_count": 3,
   "id": "228bfd32-6ec4-4601-9eb3-b8f8fcababe1",
   "metadata": {},
   "outputs": [],
   "source": [
    "def to_text(binary_,char_size=8):\n",
    "    i=1\n",
    "    binary_=binary_[::-1]\n",
    "    block=''\n",
    "    full_text=''\n",
    "    block=''\n",
    "    while(i<len(binary_)):\n",
    "        block=block+binary_[i-1]\n",
    "        if(i+1==len(binary_)):\n",
    "            block=block+binary_[i]\n",
    "        if(i%(char_size)==0 or i+1==len(binary_)):\n",
    "            block=block[::-1]\n",
    "            full_text=chr(int(block,2))+full_text\n",
    "            block=''\n",
    "        i=i+1\n",
    "    return full_text"
   ]
  },
  {
   "cell_type": "code",
   "execution_count": 4,
   "id": "ec8ff4c5-2e5b-4744-9817-a6062a0ce425",
   "metadata": {},
   "outputs": [],
   "source": [
    "def byte_to_hex(binary_):\n",
    "    size=len(binary_)\n",
    "    hex_=''\n",
    "    binary_=binary_[::-1]\n",
    "    oneta=binary_[:4]\n",
    "    oneta=oneta[::-1]\n",
    "    hex_=hex_+str(hex(int(oneta,2)))[2:]\n",
    "    \n",
    "    if(size>4):\n",
    "        oneta=binary_[4:]\n",
    "        oneta=oneta[::-1]\n",
    "        hex_=str(hex(int(oneta,2)))[2:]+hex_\n",
    "\n",
    "    return hex_.upper()"
   ]
  },
  {
   "cell_type": "markdown",
   "id": "5d654e10-e63d-41cb-bb4a-ec058cb18c01",
   "metadata": {},
   "source": [
    "# Assignments\n",
    "Write a code to implement CFB Algorithm taking into account that the size of IV is 64 bit and the number of s bits is 16.\n",
    "\n"
   ]
  },
  {
   "cell_type": "markdown",
   "id": "5664d352-4c51-4051-b8e2-48307aee4c67",
   "metadata": {},
   "source": [
    "$IV\\text{  Initialization vector }$\n",
    "<br>\n",
    "$f(x) \\text{  can be particular algorithm as AES or DES}$\n",
    "\n",
    "<br>\n",
    "$C_{i}=f(E(IV,K))\\oplus P_{i}$\n",
    "<br>\n",
    "$P_{i}=f(E(IV,K))\\oplus C_{i}$\n",
    "<br>\n"
   ]
  },
  {
   "cell_type": "markdown",
   "id": "a0f353bc-daf3-4124-87b6-ee5ddc634125",
   "metadata": {},
   "source": [
    "### Step 1\n",
    "IV => Encrpypt XOR Key = ENC_IV\n",
    "### Step 2\n",
    "First S of ENC_IV XOR First S of Plaintext"
   ]
  },
  {
   "cell_type": "markdown",
   "id": "16b2e65d-a168-4fea-9e6a-aa309eaed0be",
   "metadata": {},
   "source": [
    "<img src=\"img/de.png\" alt=\"Alternative\" />\n",
    "    "
   ]
  },
  {
   "cell_type": "code",
   "execution_count": 5,
   "id": "27105c35",
   "metadata": {},
   "outputs": [
    {
     "data": {
      "text/plain": [
       "'000010000010'"
      ]
     },
     "execution_count": 5,
     "metadata": {},
     "output_type": "execute_result"
    }
   ],
   "source": [
    "Binary('10',12).xor('10000000')"
   ]
  },
  {
   "cell_type": "code",
   "execution_count": 6,
   "id": "de4e2fb4-e5e5-43b1-b684-fbce646f6d76",
   "metadata": {},
   "outputs": [],
   "source": [
    "import math\n",
    "def feedback(plaintext,key,IV='',S_bit=16,decrypt_mode=False):\n",
    "    if(len(key)*8!=64):\n",
    "        return f'bad input key size {len(key)*8}'\n",
    "        #note iv can be empty\n",
    "        #if the size of the key not 64-bit return bad input\n",
    "    if(len(plaintext)%2 != 0):\n",
    "        plaintext=plaintext+'x'\n",
    "        # if the plaintext not even add 'x' to the also end can be ' ' space\n",
    "    #step 1 IV XOR KEY\n",
    "    key_binary=to_binary(key)\n",
    "    IV_binary=to_binary(IV)\n",
    "    plaintext_binary=to_binary(plaintext)\n",
    "    \n",
    "    \n",
    "    factor =math.ceil(len(plaintext_binary)/S_bit)\n",
    "    #factor calcalute the number of iteration for the loop\n",
    "    cipher=''\n",
    "    # f(x)=>E(iv,key)\n",
    "    \n",
    "    \n",
    "    for i in range(factor):\n",
    "        shift_register=Binary(key_binary,64).xor(IV_binary)\n",
    "        # XOR function\n",
    "        \n",
    "        XORed=Binary(plaintext_binary[:S_bit],S_bit)\n",
    "        cipher_subset=XORed.xor(shift_register[:S_bit])\n",
    "        cipher=cipher+cipher_subset\n",
    "        \n",
    "        if(not decrypt_mode):\n",
    "            shift_register=shift_register[S_bit:]+cipher_subset\n",
    "            # Shif the first (S_bit) (Removed)\n",
    "            # add the cipher subset to the end of [IV (XORed) KEY]\n",
    "        else:\n",
    "            shift_register=shift_register[S_bit:]+plaintext_binary[:S_bit]\n",
    "            # in term od decode the plaintext_binary is cipher \n",
    "            # added the cipher(plaintext_binary) to recover the plaintext\n",
    "\n",
    "        plaintext_binary=plaintext_binary[S_bit:]\n",
    "        # shif the plaintext\n",
    "    return cipher\n",
    "    #"
   ]
  },
  {
   "cell_type": "markdown",
   "id": "22c6f85f-c33e-4e57-8f74-2cce33d64b86",
   "metadata": {},
   "source": [
    "# Code"
   ]
  },
  {
   "cell_type": "code",
   "execution_count": 7,
   "id": "1daf639b-ed06-483e-bc4c-d0b95f4e7796",
   "metadata": {},
   "outputs": [
    {
     "data": {
      "text/plain": [
       "64"
      ]
     },
     "execution_count": 7,
     "metadata": {},
     "output_type": "execute_result"
    }
   ],
   "source": [
    "len('cypherpk')*8"
   ]
  },
  {
   "cell_type": "code",
   "execution_count": 8,
   "id": "449ea946-fda7-4088-8269-1ab3c2673b91",
   "metadata": {},
   "outputs": [],
   "source": [
    "plaintext='Hello World 2077'\n",
    "key='cypherpk'\n",
    "iv='vi' # can be up to 64-bit"
   ]
  },
  {
   "cell_type": "markdown",
   "id": "d15a97c1-fbcf-4cc2-90dd-30affa9744e9",
   "metadata": {
    "tags": []
   },
   "source": [
    "## Encode"
   ]
  },
  {
   "cell_type": "code",
   "execution_count": 9,
   "id": "b6204a36-d33d-47bd-940d-5f23a52c80f0",
   "metadata": {},
   "outputs": [
    {
     "name": "stdout",
     "output_type": "stream",
     "text": [
      "00101011000111000000111100010101000011000101100100110100000101100001000100010101000001110101100101010001010010010101010001001110\n"
     ]
    }
   ],
   "source": [
    "print(feedback(plaintext,key,iv))"
   ]
  },
  {
   "cell_type": "code",
   "execution_count": 10,
   "id": "31c2257a-1816-455d-9ff7-e1ecafe75d04",
   "metadata": {
    "tags": []
   },
   "outputs": [
    {
     "name": "stdout",
     "output_type": "stream",
     "text": [
      "+\u001c\u000f\u0015\fY4\u0016\u0011\u0015\u0007YQITN\n"
     ]
    }
   ],
   "source": [
    "ciphertext=to_text(feedback(plaintext,key,iv))\n",
    "print(ciphertext)"
   ]
  },
  {
   "cell_type": "markdown",
   "id": "d18b1aa9-3845-4a26-a8a2-dfda5e34d058",
   "metadata": {},
   "source": [
    "## Decode"
   ]
  },
  {
   "cell_type": "code",
   "execution_count": 11,
   "id": "5341a42a-a3cb-4a20-a5f6-b6d3fc002f27",
   "metadata": {},
   "outputs": [
    {
     "name": "stdout",
     "output_type": "stream",
     "text": [
      "01001000011001010110110001101100011011110010000001010111011011110111001001101100011001000010000000110010001100000011011100110111\n"
     ]
    }
   ],
   "source": [
    "print(feedback(ciphertext,key,iv))"
   ]
  },
  {
   "cell_type": "code",
   "execution_count": 12,
   "id": "0bfd5b3e-95f3-4a1b-a4f6-f0979045cc87",
   "metadata": {},
   "outputs": [
    {
     "name": "stdout",
     "output_type": "stream",
     "text": [
      "Hello World 2077\n"
     ]
    }
   ],
   "source": [
    "print(to_text(feedback(ciphertext,key,iv,decrypt_mode=True)))"
   ]
  },
  {
   "cell_type": "code",
   "execution_count": 13,
   "id": "6aaa308c-e45a-46b3-b7c7-393ccb0c1f8c",
   "metadata": {},
   "outputs": [],
   "source": [
    "from ipywidgets import interact\n",
    "import ipywidgets as widgets\n",
    "from IPython.display import display"
   ]
  },
  {
   "cell_type": "code",
   "execution_count": 14,
   "id": "e8b92f3b-dc06-4288-b3d9-46cb4507c74c",
   "metadata": {},
   "outputs": [],
   "source": [
    "KEY=widgets.Text(\n",
    "    value='feedback',\n",
    "    placeholder='Key',\n",
    "    disabled=False\n",
    ")\n",
    "IV=widgets.Text(\n",
    "    value='VI',\n",
    "    placeholder='Initialization vector ',\n",
    "    disabled=False\n",
    ")\n",
    "P=widgets.Textarea(\n",
    "    value='',\n",
    "    placeholder='Plaintext',\n",
    "    disabled=False\n",
    ")\n",
    "C=widgets.Text(\n",
    "    value='Useless',\n",
    "    placeholder='Type something',\n",
    "    disabled=False\n",
    ")\n",
    "OUT=widgets.Textarea(\n",
    "    value='',\n",
    "    placeholder='Output',\n",
    "    disabled=False\n",
    ")\n",
    "MODE=widgets.RadioButtons(\n",
    "    options=['Encode','Decode'],\n",
    "#     value='pineapple',\n",
    "    description='MODE:',\n",
    "    disabled=False\n",
    ")"
   ]
  },
  {
   "cell_type": "code",
   "execution_count": null,
   "id": "63c70bea-e539-47cb-9e60-8a74f01fe50d",
   "metadata": {},
   "outputs": [],
   "source": []
  },
  {
   "cell_type": "markdown",
   "id": "752876b6-54c0-4461-8a16-fd6a96643efc",
   "metadata": {},
   "source": [
    "# Friendly GUI"
   ]
  },
  {
   "cell_type": "code",
   "execution_count": 15,
   "id": "0182cd6b-06e3-488d-9734-30718e545f44",
   "metadata": {},
   "outputs": [
    {
     "data": {
      "application/vnd.jupyter.widget-view+json": {
       "model_id": "3ca0056be99c4708b2ee7374fb91258d",
       "version_major": 2,
       "version_minor": 0
      },
      "text/plain": [
       "Text(value='feedback', placeholder='Key')"
      ]
     },
     "metadata": {},
     "output_type": "display_data"
    },
    {
     "data": {
      "application/vnd.jupyter.widget-view+json": {
       "model_id": "cd7c877b4b1843efaa8388ae31dc9ba9",
       "version_major": 2,
       "version_minor": 0
      },
      "text/plain": [
       "Text(value='VI', placeholder='Initialization vector ')"
      ]
     },
     "metadata": {},
     "output_type": "display_data"
    },
    {
     "data": {
      "application/vnd.jupyter.widget-view+json": {
       "model_id": "dc622e912e0d4cbf82d49b7cbaf2dfa6",
       "version_major": 2,
       "version_minor": 0
      },
      "text/plain": [
       "Text(value='Useless', placeholder='Type something')"
      ]
     },
     "metadata": {},
     "output_type": "display_data"
    },
    {
     "data": {
      "application/vnd.jupyter.widget-view+json": {
       "model_id": "2a34ec094a3e4cadbe4f7a8a754d7562",
       "version_major": 2,
       "version_minor": 0
      },
      "text/plain": [
       "Textarea(value='', placeholder='Plaintext')"
      ]
     },
     "metadata": {},
     "output_type": "display_data"
    },
    {
     "data": {
      "application/vnd.jupyter.widget-view+json": {
       "model_id": "101e4f13b0344b248279f4d3549b2caf",
       "version_major": 2,
       "version_minor": 0
      },
      "text/plain": [
       "RadioButtons(description='MODE:', options=('Encode', 'Decode'), value='Encode')"
      ]
     },
     "metadata": {},
     "output_type": "display_data"
    },
    {
     "data": {
      "application/vnd.jupyter.widget-view+json": {
       "model_id": "5e12d8f1c6d549bb9fb3c94752c40f5b",
       "version_major": 2,
       "version_minor": 0
      },
      "text/plain": [
       "Textarea(value='', placeholder='Output')"
      ]
     },
     "metadata": {},
     "output_type": "display_data"
    },
    {
     "data": {
      "application/vnd.jupyter.widget-view+json": {
       "model_id": "89b079bedab046d09bd9e5812206954b",
       "version_major": 2,
       "version_minor": 0
      },
      "text/plain": [
       "Button(description='copy', style=ButtonStyle())"
      ]
     },
     "metadata": {},
     "output_type": "display_data"
    },
    {
     "data": {
      "application/vnd.jupyter.widget-view+json": {
       "model_id": "004f4393635c4d64916f250f450582b8",
       "version_major": 2,
       "version_minor": 0
      },
      "text/plain": [
       "Button(description='Run', style=ButtonStyle())"
      ]
     },
     "metadata": {},
     "output_type": "display_data"
    }
   ],
   "source": [
    "display(KEY)\n",
    "display(IV)\n",
    "display(C)\n",
    "display(P)\n",
    "display(MODE)\n",
    "display(OUT)\n",
    "\n",
    "button_run = widgets.Button(description=\"Run\")\n",
    "button_copy = widgets.Button(description=\"copy\")\n",
    "\n",
    "output = widgets.Output()\n",
    "\n",
    "\n",
    "display(button_copy)\n",
    "display(button_run)\n",
    "\n",
    "def on_button_clicked(b):\n",
    "    with output:\n",
    "        if (MODE.value=='Decode'):\n",
    "            _M=True\n",
    "        else:\n",
    "            _M=False\n",
    "        OUT.value=to_text(feedback(plaintext=P.value,key=KEY.value,IV=IV.value,decrypt_mode=_M))\n",
    "        # C.value=P.value\n",
    "        # P.value=OUT.value\n",
    "        print(\"Run.\")\n",
    "def on_button_clicked_copy(b):\n",
    "    with output:\n",
    "        P.value=OUT.value\n",
    "        print(\"copy.\")\n",
    "\n",
    "button_run.on_click(on_button_clicked)\n",
    "button_copy.on_click(on_button_clicked_copy)\n"
   ]
  },
  {
   "cell_type": "code",
   "execution_count": null,
   "id": "412bd288-8cd6-4f20-a70f-aef9c90424f3",
   "metadata": {},
   "outputs": [],
   "source": []
  }
 ],
 "metadata": {
  "kernelspec": {
   "display_name": "Python 3 (ipykernel)",
   "language": "python",
   "name": "python3"
  },
  "language_info": {
   "codemirror_mode": {
    "name": "ipython",
    "version": 3
   },
   "file_extension": ".py",
   "mimetype": "text/x-python",
   "name": "python",
   "nbconvert_exporter": "python",
   "pygments_lexer": "ipython3",
   "version": "3.12.1"
  }
 },
 "nbformat": 4,
 "nbformat_minor": 5
}

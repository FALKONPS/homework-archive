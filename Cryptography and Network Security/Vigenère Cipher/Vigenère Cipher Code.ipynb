{
 "cells": [
  {
   "cell_type": "markdown",
   "id": "cefc442d",
   "metadata": {},
   "source": [
    "# Classical Encryption Techniques"
   ]
  },
  {
   "cell_type": "markdown",
   "id": "24ca09cc",
   "metadata": {},
   "source": [
    "### Basic Terminology\n",
    "- plaintext - original message\n",
    "- ciphertext - coded message\n",
    "- cipher - algorithm for transforming plaintext to ciphertext\n",
    "- key - info used in cipher known only to sender/receiver\n",
    "- encipher (encrypt) - converting plaintext to ciphertext\n",
    "- decipher (decrypt) – restoring plaintext from cihpertext\n",
    "- cryptography - study of encryption principles/methods\n",
    "- cryptanalysis (codebreaking) - study of principles/methods of deciphering ciphertext without knowing key\n",
    "- cryptology - field of both cryptography and cryptanalysis\n"
   ]
  },
  {
   "cell_type": "markdown",
   "id": "959587ff",
   "metadata": {},
   "source": [
    "### A symmetric encryption scheme has five ingredients:\n",
    "- **Plaintext**: This is the original intelligible message or data that is fed\n",
    "into the algorithm as input.\n",
    "- **Encryption** algorithm: The encryption algorithm performs various\n",
    "substitutions and transformations on the plaintext.\n",
    "- **Secret key**: The secret key is also input to the encryption algorithm.\n",
    "\n",
    "    - The key is a value independent of the plaintext and of the algorithm.\n",
    "    - The algorithm will produce a different output depending on the specific\n",
    "    - Key being used at the time. The exact substitutions and\n",
    "    - Transformations performed by the algorithm depend on the key.\n",
    "\n",
    "- **Ciphertext**: This is the scrambled message produced as output. It depends on the plaintext and the secret key.<br>\n",
    " For a given message, two different keys will produce two different ciphertexts.\n",
    "- **Decryption algorithm**: This is essentially the encryption algorithm\n",
    "run in reverse. It takes the ciphertext and the secret key and produces\n",
    "the original plaintext."
   ]
  },
  {
   "cell_type": "markdown",
   "id": "302ad118",
   "metadata": {},
   "source": [
    "## Pre-setup Functions\n",
    "Assessment at 'Vigenère cipher' section"
   ]
  },
  {
   "cell_type": "code",
   "execution_count": 1,
   "id": "496c16e7",
   "metadata": {},
   "outputs": [],
   "source": [
    "def alphabet(shift=0,capital=False):\n",
    "    if(shift<0):\n",
    "        shift=(26+(shift%26))\n",
    "    alphabetical_list=[]\n",
    "    type_alphabet=ord('a')\n",
    "    if(capital):\n",
    "        type_alphabet=ord('A')\n",
    "    for alpha in range(26):\n",
    "        alphabetical_list.append(chr((alpha+shift)%26+type_alphabet))\n",
    "    return alphabetical_list"
   ]
  },
  {
   "cell_type": "code",
   "execution_count": 2,
   "id": "0879c974",
   "metadata": {},
   "outputs": [],
   "source": [
    "def alphabet(shift=0,capital=False,custom_alphabet=None):\n",
    "    import math\n",
    "    alphabetical_list=[]\n",
    "    type_alphabet=ord('a')\n",
    "    if(capital):\n",
    "        type_alphabet=ord('A')\n",
    "        \n",
    "    if(custom_alphabet!=None):\n",
    "        factor=math.ceil(26/len(custom_alphabet))\n",
    "        custom_alphabet=custom_alphabet*factor\n",
    "        for alpha in range(26):\n",
    "            alphabetical_list.append(custom_alphabet[alpha])\n",
    "    else:\n",
    "        if(shift<0):\n",
    "            shift=(26+(shift%26))\n",
    "        for alpha in range(26):\n",
    "            alphabetical_list.append(chr((alpha+shift)%26+type_alphabet))\n",
    "    return alphabetical_list"
   ]
  },
  {
   "cell_type": "code",
   "execution_count": 3,
   "id": "b1a9f52f",
   "metadata": {},
   "outputs": [],
   "source": [
    "def numbered():\n",
    "    space=' '\n",
    "    number=0\n",
    "    for alpha in alphabet():\n",
    "        print(str(number)+space,end='')\n",
    "        number=number+1"
   ]
  },
  {
   "cell_type": "code",
   "execution_count": 4,
   "id": "073794a7",
   "metadata": {},
   "outputs": [],
   "source": [
    "def display_alphabet(shift=0,capital=False,numbered=False):\n",
    "    space=' '\n",
    "    number=0\n",
    "    for alpha in alphabet(shift,capital):\n",
    "        if(numbered and number==10):\n",
    "            space='  '\n",
    "        number=number+1\n",
    "        print(alpha+space,end='')\n",
    "    print('')"
   ]
  },
  {
   "cell_type": "code",
   "execution_count": 5,
   "id": "ed39ab4e",
   "metadata": {},
   "outputs": [
    {
     "name": "stdout",
     "output_type": "stream",
     "text": [
      "Plaintext:  a b c d e f g h i j k  l  m  n  o  p  q  r  s  t  u  v  w  x  y  z  \n"
     ]
    }
   ],
   "source": [
    "print('Plaintext:  ',end='')\n",
    "display_alphabet(numbered=True)"
   ]
  },
  {
   "cell_type": "code",
   "execution_count": 6,
   "id": "e709ac49",
   "metadata": {},
   "outputs": [
    {
     "name": "stdout",
     "output_type": "stream",
     "text": [
      "index:      0 1 2 3 4 5 6 7 8 9 10 11 12 13 14 15 16 17 18 19 20 21 22 23 24 25 \n",
      "Plaintext:  a b c d e f g h i j k  l  m  n  o  p  q  r  s  t  u  v  w  x  y  z  \n",
      "Ciphertext: d e f g h i j k l m n  o  p  q  r  s  t  u  v  w  x  y  z  a  b  c  \n"
     ]
    }
   ],
   "source": [
    "print('index:      ',end='')\n",
    "numbered()\n",
    "print('\\nPlaintext:  ',end='')\n",
    "display_alphabet(numbered=True)\n",
    "print('Ciphertext: ',end='')\n",
    "display_alphabet(3,numbered=True)"
   ]
  },
  {
   "cell_type": "code",
   "execution_count": 7,
   "id": "50d69dbb",
   "metadata": {
    "scrolled": true
   },
   "outputs": [
    {
     "name": "stdout",
     "output_type": "stream",
     "text": [
      "Plaintext:  A B C D E F G H I J K L M N O P Q R S T U V W X Y Z \n",
      "Ciphertext: D E F G H I J K L M N O P Q R S T U V W X Y Z A B C \n"
     ]
    }
   ],
   "source": [
    "print('Plaintext:  ',end='')\n",
    "display_alphabet(capital=True)\n",
    "print('Ciphertext: ',end='')\n",
    "display_alphabet(3,capital=True)"
   ]
  },
  {
   "cell_type": "code",
   "execution_count": 8,
   "id": "3cb8263b",
   "metadata": {},
   "outputs": [],
   "source": [
    "matrix=[]\n",
    "for alpha in range(26):\n",
    "    matrix.append(alphabet(shift=alpha))"
   ]
  },
  {
   "cell_type": "raw",
   "id": "6d21d053",
   "metadata": {},
   "source": [
    "for i in range(26):\n",
    "    for j in range(26):\n",
    "        print(str(matrix[i][j])+\" \",end=\"\")\n",
    "    print('')"
   ]
  },
  {
   "cell_type": "markdown",
   "id": "fe4dc1fb",
   "metadata": {},
   "source": [
    "## Vigenère cipher\n",
    "Plaintext letters $P=p_0,p_1,p_2,\\ldots,p_{n-1}$\n",
    "<br>\n",
    "Key letters $K=k_0,k_1,k_2,\\ldots,p_{m-1}$\n",
    "<br>\n",
    "ciphertext letters $C=c_0,c_1,c_2,\\ldots,c_{n-1}$\n",
    "<br>\n",
    "<br>\n",
    "$\\text{where } m<=n$\n",
    "<br>\n",
    "<br>\n",
    "$C=c_0,c_1,c_2,\\ldots,c_{n-1}=E(K,P)=E\\bigl[(k_0,k_1,k_2,\\ldots,p_{m-1}),(p_0,p_1,p_2,\\ldots,p_{n-1})\\bigl]$\n",
    "<br>\n",
    "<br>\n",
    "$C=\\bigl[(p_0+k_0)\\mod 26,(p_1+k_1)\\mod 26,\\ldots,(p_{m-1}+k_{m-1})\\mod 26\\bigl]$\n",
    "<pre>\n",
    "key:        deceptivewearediscoveredsav\n",
    "plaintext:  wearediscoveredsaveyourself\n",
    "ciphertext: ZICVTWONGKZEIIGASXSTSLVVWLA\n",
    "</pre>\n",
    "\n",
    "<pre>\n",
    "    PLAINTEXT                                   |\n",
    "    vvvvvvvvv                                   v\n",
    "KEY>a b c d e f g h i j k l m n o p q r s t u v|w|x y z \n",
    "    b c d e f g h i j k l m n o p q r s t u v w|x|y z a \n",
    "    c d e f g h i j k l m n o p q r s t u v w x|y|z a b \n",
    " -->d e f g h i j k l m n o p q r s t u v w x y(z)a b c \n",
    "    e f g h i j k l m n o p q r s t u v w x y z a b c d \n",
    "    f g h i j k l m n o p q r s t u v w x y z a b c d e \n",
    "    g h i j k l m n o p q r s t u v w x y z a b c d e f \n",
    "    h i j k l m n o p q r s t u v w x y z a b c d e f g \n",
    "    i j k l m n o p q r s t u v w x y z a b c d e f g h \n",
    "    j k l m n o p q r s t u v w x y z a b c d e f g h i \n",
    "    k l m n o p q r s t u v w x y z a b c d e f g h i j \n",
    "    l m n o p q r s t u v w x y z a b c d e f g h i j k \n",
    "    m n o p q r s t u v w x y z a b c d e f g h i j k l \n",
    "    n o p q r s t u v w x y z a b c d e f g h i j k l m \n",
    "    o p q r s t u v w x y z a b c d e f g h i j k l m n \n",
    "    p q r s t u v w x y z a b c d e f g h i j k l m n o \n",
    "    q r s t u v w x y z a b c d e f g h i j k l m n o p \n",
    "    r s t u v w x y z a b c d e f g h i j k l m n o p q \n",
    "    s t u v w x y z a b c d e f g h i j k l m n o p q r \n",
    "    t u v w x y z a b c d e f g h i j k l m n o p q r s \n",
    "    u v w x y z a b c d e f g h i j k l m n o p q r s t \n",
    "    v w x y z a b c d e f g h i j k l m n o p q r s t u \n",
    "    w x y z a b c d e f g h i j k l m n o p q r s t u v \n",
    "    x y z a b c d e f g h i j k l m n o p q r s t u v w \n",
    "    y z a b c d e f g h i j k l m n o p q r s t u v w x \n",
    "    z a b c d e f g h i j k l m n o p q r s t u v w x y </pre>"
   ]
  },
  {
   "cell_type": "code",
   "execution_count": 9,
   "id": "a3c09bae",
   "metadata": {},
   "outputs": [
    {
     "data": {
      "text/plain": [
       "('z', 'i')"
      ]
     },
     "execution_count": 9,
     "metadata": {},
     "output_type": "execute_result"
    }
   ],
   "source": [
    "chr((ord('d')+ord('w')-ord('a')*2)%26+ord('a')),chr((ord('e')+ord('e')-ord('a')*2)%26+ord('a'))"
   ]
  },
  {
   "cell_type": "markdown",
   "id": "17b5b4ae",
   "metadata": {},
   "source": [
    "**Encipher**"
   ]
  },
  {
   "cell_type": "code",
   "execution_count": 10,
   "id": "55b32eef",
   "metadata": {},
   "outputs": [],
   "source": [
    "def vigenere_cipher_encipher(planetext,cipherkey):\n",
    "    encode_text=\"\"\n",
    "    cipherkey=cipherkey.lower()\n",
    "    cipherkey_onlychar=\"\"\n",
    "    for onlychar in cipherkey:\n",
    "        if(onlychar>='a' and onlychar<='z'):\n",
    "            cipherkey_onlychar=cipherkey_onlychar+onlychar\n",
    "    cipherkey=cipherkey_onlychar\n",
    "    if((len(planetext)*len(cipherkey))==0):\n",
    "        return '0'\n",
    "    if(len(cipherkey)<len(planetext)):\n",
    "        # Sentence repeat\n",
    "        import math\n",
    "        factor=len(planetext)/len(cipherkey)\n",
    "        cipherkey=cipherkey*math.ceil(factor)\n",
    "        \n",
    "    for alpha in range(len(planetext)):\n",
    "        if(planetext[alpha]>='a' and planetext[alpha]<='z' or planetext[alpha]>='A' and planetext[alpha]<='Z'):\n",
    "            type_char=ord('a')\n",
    "            if(planetext[alpha]<='Z'):\n",
    "                type_char=ord('A')\n",
    "            # letter_planetext position + letter_ciphertext position - ASCII Code\n",
    "            letter_position=ord(planetext[alpha])+ord(cipherkey[alpha])-type_char-ord('a')\n",
    "            encode_text=encode_text+chr((letter_position)%26+type_char)\n",
    "        else:\n",
    "            encode_text=encode_text+planetext[alpha]\n",
    "    return encode_text"
   ]
  },
  {
   "cell_type": "markdown",
   "id": "77dbfbdb",
   "metadata": {},
   "source": [
    "**Decipher**"
   ]
  },
  {
   "cell_type": "code",
   "execution_count": 11,
   "id": "e906cc01",
   "metadata": {},
   "outputs": [],
   "source": [
    "def vigenere_cipher_decipher(planetext,cipherkey):\n",
    "    encode_text=\"\"\n",
    "    cipherkey=cipherkey.lower()\n",
    "    cipherkey_onlychar=\"\"\n",
    "    for onlychar in cipherkey:\n",
    "        if(onlychar>='a' and onlychar<='z'):\n",
    "            cipherkey_onlychar=cipherkey_onlychar+onlychar\n",
    "    cipherkey=cipherkey_onlychar\n",
    "    if((len(planetext)*len(cipherkey))==0):\n",
    "        return '0'\n",
    "\n",
    "    if(len(cipherkey)<len(planetext)):\n",
    "        # Sentence repeat\n",
    "        import math\n",
    "        factor=len(planetext)/len(cipherkey)\n",
    "        cipherkey=cipherkey*math.ceil(factor)\n",
    "        \n",
    "    for alpha in range(len(planetext)):\n",
    "        if(planetext[alpha]>='a' and planetext[alpha]<='z' or planetext[alpha]>='A' and planetext[alpha]<='Z'):\n",
    "            type_char=ord('a')\n",
    "            if(planetext[alpha]<='Z'):\n",
    "                type_char=ord('A')\n",
    "            # letter_planetext position + letter_ciphertext position - ASCII Code\n",
    "            letter_position=(ord(planetext[alpha])-type_char)-(ord(cipherkey[alpha])-ord('a'))\n",
    "            encode_text=encode_text+chr((letter_position)%26+type_char)\n",
    "        else:\n",
    "            encode_text=encode_text+planetext[alpha]\n",
    "    return encode_text"
   ]
  },
  {
   "cell_type": "markdown",
   "id": "e48a4edb",
   "metadata": {},
   "source": [
    "# TEST"
   ]
  },
  {
   "cell_type": "markdown",
   "id": "3d248252",
   "metadata": {},
   "source": [
    "**Book example**"
   ]
  },
  {
   "cell_type": "code",
   "execution_count": 12,
   "id": "484c4510",
   "metadata": {},
   "outputs": [
    {
     "name": "stdout",
     "output_type": "stream",
     "text": [
      "Encode\t:zicvtwqngkzeiigasxstslvvwla\n",
      "Decode\t:wearediscoveredsaveyourself\n"
     ]
    }
   ],
   "source": [
    "print('Encode\\t:'+vigenere_cipher_encipher('wearediscoveredsaveyourself','deceptivewearediscoveredsav'))\n",
    "print('Decode\\t:'+vigenere_cipher_decipher('zicvtwqngkzeiigasxstslvvwla','deceptivewearediscoveredsav'))"
   ]
  },
  {
   "cell_type": "markdown",
   "id": "cd74c388",
   "metadata": {},
   "source": [
    "**Case Sensitive**"
   ]
  },
  {
   "cell_type": "code",
   "execution_count": 15,
   "id": "fb4fbd85",
   "metadata": {},
   "outputs": [
    {
     "name": "stdout",
     "output_type": "stream",
     "text": [
      "Encode\t:Vakeubblk Vint zk Ergm\n",
      "Decode\t:Palestine Will be Free\n"
     ]
    }
   ],
   "source": [
    "print('Encode\\t:'+vigenere_cipher_encipher('Palestine Will be Free','Gaza City'))\n",
    "print('Decode\\t:'+vigenere_cipher_decipher('Vakeubblk Vint zk Ergm','Gaza City'))"
   ]
  },
  {
   "cell_type": "markdown",
   "id": "cf4ea2d0",
   "metadata": {},
   "source": [
    "**With other letters and symbols**"
   ]
  },
  {
   "cell_type": "code",
   "execution_count": 17,
   "id": "4156fa7f",
   "metadata": {},
   "outputs": [
    {
     "name": "stdout",
     "output_type": "stream",
     "text": [
      "Encode\t:Vakeubblk Vint zk Ergm 123456789!@#$%^&*\n",
      "Decode\t:Palestine Will be Free 123456789!@#$%^&*\n"
     ]
    }
   ],
   "source": [
    "print('Encode\\t:'+vigenere_cipher_encipher('Palestine Will be Free 123456789!@#$%^&*','Gaza City'))\n",
    "print('Decode\\t:'+vigenere_cipher_decipher('Vakeubblk Vint zk Ergm 123456789!@#$%^&*','Gaza City'))"
   ]
  },
  {
   "cell_type": "markdown",
   "id": "0c3e3f32",
   "metadata": {},
   "source": [
    "# MAIN : BASIC INTERFACE"
   ]
  },
  {
   "cell_type": "code",
   "execution_count": null,
   "id": "36f446bd",
   "metadata": {},
   "outputs": [],
   "source": [
    "print('Vigenere cipher')\n",
    "input_planetext=''\n",
    "input_key=''\n",
    "def menu():\n",
    "    print('\\n0.Exit')\n",
    "    print('1.Encipher')\n",
    "    print('2.Decipher')\n",
    "def _INPUT():\n",
    "    global input_planetext\n",
    "    global input_key\n",
    "    print('Enter Plaintext: ',end='')\n",
    "    input_planetext=input()\n",
    "    print('Enter Key      : ',end='')\n",
    "\n",
    "    input_key=input()\n",
    "def LOOP_INPUT():\n",
    "    global input_loop\n",
    "    print('INPUT:::>')\n",
    "    input_loop=input()\n",
    "\n",
    "input_loop=''\n",
    "while(input_loop!='0'):\n",
    "    menu()\n",
    "    LOOP_INPUT()\n",
    "    if(input_loop=='1'):\n",
    "        _INPUT()\n",
    "        print(f'\\nPlaintext:  {input_planetext}',end='')\n",
    "        print(f'\\nCiphertext: {vigenere_cipher_encipher(input_planetext,input_key)}',end='\\n')\n",
    "\n",
    " \n",
    "    elif(input_loop=='2'):\n",
    "        _INPUT()\n",
    "        print(f'\\nPlaintext:  {input_planetext}',end='')\n",
    "        print(f'\\nCiphertext: {vigenere_cipher_decipher(input_planetext,input_key)}',end='\\n')\n"
   ]
  }
 ],
 "metadata": {
  "kernelspec": {
   "display_name": "Python 3 (ipykernel)",
   "language": "python",
   "name": "python3"
  },
  "language_info": {
   "codemirror_mode": {
    "name": "ipython",
    "version": 3
   },
   "file_extension": ".py",
   "mimetype": "text/x-python",
   "name": "python",
   "nbconvert_exporter": "python",
   "pygments_lexer": "ipython3",
   "version": "3.12.1"
  }
 },
 "nbformat": 4,
 "nbformat_minor": 5
}
